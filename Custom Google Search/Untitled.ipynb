{
 "cells": [
  {
   "cell_type": "code",
   "execution_count": 1,
   "id": "1e82570f",
   "metadata": {},
   "outputs": [],
   "source": [
    "import pandas as pd\n",
    "from instagrapi import Client\n",
    "from tqdm import tqdm"
   ]
  },
  {
   "cell_type": "code",
   "execution_count": 2,
   "id": "6596387c",
   "metadata": {},
   "outputs": [
    {
     "data": {
      "text/plain": [
       "True"
      ]
     },
     "execution_count": 2,
     "metadata": {},
     "output_type": "execute_result"
    }
   ],
   "source": [
    "client = Client()\n",
    "client.login(username=\"test59014\", password=\"@Admin!23#\")"
   ]
  },
  {
   "cell_type": "code",
   "execution_count": 3,
   "id": "604f2613",
   "metadata": {},
   "outputs": [],
   "source": [
    "df = pd.read_excel(\"others_accounts.xlsx\")"
   ]
  },
  {
   "cell_type": "code",
   "execution_count": 4,
   "id": "d59d7053",
   "metadata": {},
   "outputs": [],
   "source": [
    "df['followers'] = None"
   ]
  },
  {
   "cell_type": "code",
   "execution_count": 5,
   "id": "49c63b1a",
   "metadata": {},
   "outputs": [],
   "source": [
    "handles = df['handle']"
   ]
  },
  {
   "cell_type": "code",
   "execution_count": 6,
   "id": "99e1a959",
   "metadata": {},
   "outputs": [
    {
     "name": "stderr",
     "output_type": "stream",
     "text": [
      "  0%|                                                                                          | 0/140 [00:00<?, ?it/s]Status 201: JSONDecodeError in public_request (url=https://www.instagram.com/precision.plumbing.and.drains/?__a=1&__d=dis) >>> \n",
      "Status 201: JSONDecodeError in public_request (url=https://www.instagram.com/precision.plumbing.and.drains/?__a=1&__d=dis) >>> \n",
      "Status 201: JSONDecodeError in public_request (url=https://www.instagram.com/precision.plumbing.and.drains/?__a=1&__d=dis) >>> \n",
      "  1%|▌                                                                                 | 1/140 [00:10<24:58, 10.78s/it]Status 201: JSONDecodeError in public_request (url=https://www.instagram.com/redeemed_plumbing/?__a=1&__d=dis) >>> \n",
      "Status 201: JSONDecodeError in public_request (url=https://www.instagram.com/redeemed_plumbing/?__a=1&__d=dis) >>> \n",
      "Status 201: JSONDecodeError in public_request (url=https://www.instagram.com/redeemed_plumbing/?__a=1&__d=dis) >>> \n",
      "Status 404: Endpoint /v1/users/redeemed_plumbing/usernameinfo/ does not exist\n",
      "  1%|█▏                                                                                | 2/140 [00:20<23:05, 10.04s/it]"
     ]
    },
    {
     "name": "stdout",
     "output_type": "stream",
     "text": [
      "User not found redeemed_plumbing\n"
     ]
    },
    {
     "name": "stderr",
     "output_type": "stream",
     "text": [
      "Status 201: JSONDecodeError in public_request (url=https://www.instagram.com/emergencyplumbingservice/?__a=1&__d=dis) >>> \n",
      "Status 201: JSONDecodeError in public_request (url=https://www.instagram.com/emergencyplumbingservice/?__a=1&__d=dis) >>> \n",
      "Status 201: JSONDecodeError in public_request (url=https://www.instagram.com/emergencyplumbingservice/?__a=1&__d=dis) >>> \n",
      "  2%|█▊                                                                                | 3/140 [00:30<22:49, 10.00s/it]Status 201: JSONDecodeError in public_request (url=https://www.instagram.com/tplumbing19/?__a=1&__d=dis) >>> \n",
      "Status 201: JSONDecodeError in public_request (url=https://www.instagram.com/tplumbing19/?__a=1&__d=dis) >>> \n",
      "Status 201: JSONDecodeError in public_request (url=https://www.instagram.com/tplumbing19/?__a=1&__d=dis) >>> \n",
      "  3%|██▎                                                                               | 4/140 [00:40<22:29,  9.92s/it]Status 201: JSONDecodeError in public_request (url=https://www.instagram.com/awirralaway/?__a=1&__d=dis) >>> \n",
      "Status 201: JSONDecodeError in public_request (url=https://www.instagram.com/awirralaway/?__a=1&__d=dis) >>> \n",
      "Status 201: JSONDecodeError in public_request (url=https://www.instagram.com/awirralaway/?__a=1&__d=dis) >>> \n",
      "  4%|██▉                                                                               | 5/140 [00:49<21:57,  9.76s/it]Status 201: JSONDecodeError in public_request (url=https://www.instagram.com/bathroomremodelingteacher_/?__a=1&__d=dis) >>> \n",
      "Status 201: JSONDecodeError in public_request (url=https://www.instagram.com/bathroomremodelingteacher_/?__a=1&__d=dis) >>> \n",
      "Status 201: JSONDecodeError in public_request (url=https://www.instagram.com/bathroomremodelingteacher_/?__a=1&__d=dis) >>> \n",
      "  4%|███▌                                                                              | 6/140 [00:58<21:31,  9.64s/it]Status 201: JSONDecodeError in public_request (url=https://www.instagram.com/atlasbuildconstruction/?__a=1&__d=dis) >>> \n",
      "Status 201: JSONDecodeError in public_request (url=https://www.instagram.com/atlasbuildconstruction/?__a=1&__d=dis) >>> \n",
      "Status 201: JSONDecodeError in public_request (url=https://www.instagram.com/atlasbuildconstruction/?__a=1&__d=dis) >>> \n",
      "  5%|████                                                                              | 7/140 [01:08<21:20,  9.62s/it]Status 201: JSONDecodeError in public_request (url=https://www.instagram.com/flippinghomes/?__a=1&__d=dis) >>> \n",
      "Status 201: JSONDecodeError in public_request (url=https://www.instagram.com/flippinghomes/?__a=1&__d=dis) >>> \n",
      "Status 201: JSONDecodeError in public_request (url=https://www.instagram.com/flippinghomes/?__a=1&__d=dis) >>> \n",
      "  6%|████▋                                                                             | 8/140 [01:17<20:57,  9.52s/it]Status 201: JSONDecodeError in public_request (url=https://www.instagram.com/atlasroofing/?__a=1&__d=dis) >>> \n",
      "Status 201: JSONDecodeError in public_request (url=https://www.instagram.com/atlasroofing/?__a=1&__d=dis) >>> \n",
      "Status 201: JSONDecodeError in public_request (url=https://www.instagram.com/atlasroofing/?__a=1&__d=dis) >>> \n",
      "  6%|█████▎                                                                            | 9/140 [01:27<20:47,  9.52s/it]Status 201: JSONDecodeError in public_request (url=https://www.instagram.com/talleigha/?__a=1&__d=dis) >>> \n",
      "Status 201: JSONDecodeError in public_request (url=https://www.instagram.com/talleigha/?__a=1&__d=dis) >>> \n",
      "Status 201: JSONDecodeError in public_request (url=https://www.instagram.com/talleigha/?__a=1&__d=dis) >>> \n",
      "  7%|█████▊                                                                           | 10/140 [01:36<20:31,  9.47s/it]Status 201: JSONDecodeError in public_request (url=https://www.instagram.com/escapenomade/?__a=1&__d=dis) >>> \n",
      "Status 201: JSONDecodeError in public_request (url=https://www.instagram.com/escapenomade/?__a=1&__d=dis) >>> \n",
      "Status 201: JSONDecodeError in public_request (url=https://www.instagram.com/escapenomade/?__a=1&__d=dis) >>> \n",
      "  8%|██████▎                                                                          | 11/140 [01:46<20:26,  9.51s/it]Status 201: JSONDecodeError in public_request (url=https://www.instagram.com/malarkeyroofingproducts/?__a=1&__d=dis) >>> \n",
      "Status 201: JSONDecodeError in public_request (url=https://www.instagram.com/malarkeyroofingproducts/?__a=1&__d=dis) >>> \n",
      "Status 201: JSONDecodeError in public_request (url=https://www.instagram.com/malarkeyroofingproducts/?__a=1&__d=dis) >>> \n",
      "  9%|██████▉                                                                          | 12/140 [01:55<20:10,  9.45s/it]Status 201: JSONDecodeError in public_request (url=https://www.instagram.com/home.and.chaos/?__a=1&__d=dis) >>> \n",
      "Status 201: JSONDecodeError in public_request (url=https://www.instagram.com/home.and.chaos/?__a=1&__d=dis) >>> \n",
      "Status 201: JSONDecodeError in public_request (url=https://www.instagram.com/home.and.chaos/?__a=1&__d=dis) >>> \n",
      "  9%|███████▌                                                                         | 13/140 [02:05<19:59,  9.44s/it]Status 201: JSONDecodeError in public_request (url=https://www.instagram.com/frenchy_home_cleaning/?__a=1&__d=dis) >>> \n",
      "Status 201: JSONDecodeError in public_request (url=https://www.instagram.com/frenchy_home_cleaning/?__a=1&__d=dis) >>> \n",
      "Status 201: JSONDecodeError in public_request (url=https://www.instagram.com/frenchy_home_cleaning/?__a=1&__d=dis) >>> \n",
      " 10%|████████                                                                         | 14/140 [02:15<20:37,  9.83s/it]Status 201: JSONDecodeError in public_request (url=https://www.instagram.com/kccarpetcleaning/?__a=1&__d=dis) >>> \n",
      "Status 201: JSONDecodeError in public_request (url=https://www.instagram.com/kccarpetcleaning/?__a=1&__d=dis) >>> \n",
      "Status 201: JSONDecodeError in public_request (url=https://www.instagram.com/kccarpetcleaning/?__a=1&__d=dis) >>> \n",
      " 11%|████████▋                                                                        | 15/140 [02:25<20:33,  9.87s/it]Status 201: JSONDecodeError in public_request (url=https://www.instagram.com/ourwoodlandmanor/?__a=1&__d=dis) >>> \n",
      "Status 201: JSONDecodeError in public_request (url=https://www.instagram.com/ourwoodlandmanor/?__a=1&__d=dis) >>> \n",
      "Status 201: JSONDecodeError in public_request (url=https://www.instagram.com/ourwoodlandmanor/?__a=1&__d=dis) >>> \n",
      " 11%|█████████▎                                                                       | 16/140 [02:35<20:11,  9.77s/it]Status 201: JSONDecodeError in public_request (url=https://www.instagram.com/msaiger/?__a=1&__d=dis) >>> \n",
      "Status 201: JSONDecodeError in public_request (url=https://www.instagram.com/msaiger/?__a=1&__d=dis) >>> \n",
      "Status 201: JSONDecodeError in public_request (url=https://www.instagram.com/msaiger/?__a=1&__d=dis) >>> \n",
      " 12%|█████████▊                                                                       | 17/140 [02:44<19:43,  9.62s/it]Status 201: JSONDecodeError in public_request (url=https://www.instagram.com/mountainrugcleaning/?__a=1&__d=dis) >>> \n",
      "Status 201: JSONDecodeError in public_request (url=https://www.instagram.com/mountainrugcleaning/?__a=1&__d=dis) >>> \n",
      "Status 201: JSONDecodeError in public_request (url=https://www.instagram.com/mountainrugcleaning/?__a=1&__d=dis) >>> \n",
      " 13%|██████████▍                                                                      | 18/140 [02:53<19:24,  9.55s/it]Status 201: JSONDecodeError in public_request (url=https://www.instagram.com/youngpressurewasher/?__a=1&__d=dis) >>> \n",
      "Status 201: JSONDecodeError in public_request (url=https://www.instagram.com/youngpressurewasher/?__a=1&__d=dis) >>> \n",
      "Status 201: JSONDecodeError in public_request (url=https://www.instagram.com/youngpressurewasher/?__a=1&__d=dis) >>> \n",
      " 14%|██████████▉                                                                      | 19/140 [03:03<19:01,  9.43s/it]"
     ]
    },
    {
     "name": "stdout",
     "output_type": "stream",
     "text": [
      "login_required youngpressurewasher\n"
     ]
    },
    {
     "name": "stderr",
     "output_type": "stream",
     "text": [
      "Status 201: JSONDecodeError in public_request (url=https://www.instagram.com/alexconroytextiles/?__a=1&__d=dis) >>> \n",
      "Status 201: JSONDecodeError in public_request (url=https://www.instagram.com/alexconroytextiles/?__a=1&__d=dis) >>> \n",
      "Status 201: JSONDecodeError in public_request (url=https://www.instagram.com/alexconroytextiles/?__a=1&__d=dis) >>> \n",
      " 14%|███████████▌                                                                     | 20/140 [03:12<18:46,  9.39s/it]"
     ]
    },
    {
     "name": "stdout",
     "output_type": "stream",
     "text": [
      "login_required alexconroytextiles\n"
     ]
    },
    {
     "name": "stderr",
     "output_type": "stream",
     "text": [
      "Status 201: JSONDecodeError in public_request (url=https://www.instagram.com/johnveitx/?__a=1&__d=dis) >>> \n",
      "Status 201: JSONDecodeError in public_request (url=https://www.instagram.com/johnveitx/?__a=1&__d=dis) >>> \n",
      "Status 201: JSONDecodeError in public_request (url=https://www.instagram.com/johnveitx/?__a=1&__d=dis) >>> \n",
      " 15%|████████████▏                                                                    | 21/140 [03:21<18:27,  9.30s/it]"
     ]
    },
    {
     "name": "stdout",
     "output_type": "stream",
     "text": [
      "login_required johnveitx\n"
     ]
    },
    {
     "name": "stderr",
     "output_type": "stream",
     "text": [
      "Status 201: JSONDecodeError in public_request (url=https://www.instagram.com/johnstonstyle/?__a=1&__d=dis) >>> \n",
      "Status 201: JSONDecodeError in public_request (url=https://www.instagram.com/johnstonstyle/?__a=1&__d=dis) >>> \n",
      "Status 201: JSONDecodeError in public_request (url=https://www.instagram.com/johnstonstyle/?__a=1&__d=dis) >>> \n",
      " 16%|████████████▋                                                                    | 22/140 [03:30<18:20,  9.33s/it]"
     ]
    },
    {
     "name": "stdout",
     "output_type": "stream",
     "text": [
      "login_required johnstonstyle\n"
     ]
    },
    {
     "name": "stderr",
     "output_type": "stream",
     "text": [
      "Status 201: JSONDecodeError in public_request (url=https://www.instagram.com/georgebrazilpe/?__a=1&__d=dis) >>> \n",
      "Status 201: JSONDecodeError in public_request (url=https://www.instagram.com/georgebrazilpe/?__a=1&__d=dis) >>> \n",
      "Status 201: JSONDecodeError in public_request (url=https://www.instagram.com/georgebrazilpe/?__a=1&__d=dis) >>> \n",
      " 16%|█████████████▎                                                                   | 23/140 [03:40<18:15,  9.36s/it]"
     ]
    },
    {
     "name": "stdout",
     "output_type": "stream",
     "text": [
      "login_required georgebrazilpe\n"
     ]
    },
    {
     "name": "stderr",
     "output_type": "stream",
     "text": [
      "Status 201: JSONDecodeError in public_request (url=https://www.instagram.com/doctorfayez/?__a=1&__d=dis) >>> \n",
      "Status 201: JSONDecodeError in public_request (url=https://www.instagram.com/doctorfayez/?__a=1&__d=dis) >>> \n",
      "Status 201: JSONDecodeError in public_request (url=https://www.instagram.com/doctorfayez/?__a=1&__d=dis) >>> \n",
      " 17%|█████████████▉                                                                   | 24/140 [03:49<18:03,  9.34s/it]"
     ]
    },
    {
     "name": "stdout",
     "output_type": "stream",
     "text": [
      "login_required doctorfayez\n"
     ]
    },
    {
     "name": "stderr",
     "output_type": "stream",
     "text": [
      "Status 201: JSONDecodeError in public_request (url=https://www.instagram.com/lucas.plumbing/?__a=1&__d=dis) >>> \n",
      "Status 201: JSONDecodeError in public_request (url=https://www.instagram.com/lucas.plumbing/?__a=1&__d=dis) >>> \n",
      "Status 201: JSONDecodeError in public_request (url=https://www.instagram.com/lucas.plumbing/?__a=1&__d=dis) >>> \n",
      " 18%|██████████████▍                                                                  | 25/140 [03:58<17:51,  9.32s/it]"
     ]
    },
    {
     "name": "stdout",
     "output_type": "stream",
     "text": [
      "login_required lucas.plumbing\n"
     ]
    },
    {
     "name": "stderr",
     "output_type": "stream",
     "text": [
      "Status 201: JSONDecodeError in public_request (url=https://www.instagram.com/plumbingjourney/?__a=1&__d=dis) >>> \n",
      "Status 201: JSONDecodeError in public_request (url=https://www.instagram.com/plumbingjourney/?__a=1&__d=dis) >>> \n",
      "Status 201: JSONDecodeError in public_request (url=https://www.instagram.com/plumbingjourney/?__a=1&__d=dis) >>> \n",
      " 19%|███████████████                                                                  | 26/140 [04:08<17:41,  9.31s/it]"
     ]
    },
    {
     "name": "stdout",
     "output_type": "stream",
     "text": [
      "login_required plumbingjourney\n"
     ]
    },
    {
     "name": "stderr",
     "output_type": "stream",
     "text": [
      "Status 201: JSONDecodeError in public_request (url=https://www.instagram.com/weremodelit/?__a=1&__d=dis) >>> \n",
      "Status 201: JSONDecodeError in public_request (url=https://www.instagram.com/weremodelit/?__a=1&__d=dis) >>> \n",
      "Status 201: JSONDecodeError in public_request (url=https://www.instagram.com/weremodelit/?__a=1&__d=dis) >>> \n",
      " 19%|███████████████▌                                                                 | 27/140 [04:17<17:27,  9.27s/it]"
     ]
    },
    {
     "name": "stdout",
     "output_type": "stream",
     "text": [
      "login_required weremodelit\n"
     ]
    },
    {
     "name": "stderr",
     "output_type": "stream",
     "text": [
      "Status 201: JSONDecodeError in public_request (url=https://www.instagram.com/sagrerabrazildesign/?__a=1&__d=dis) >>> \n",
      "Status 201: JSONDecodeError in public_request (url=https://www.instagram.com/sagrerabrazildesign/?__a=1&__d=dis) >>> \n",
      "Status 201: JSONDecodeError in public_request (url=https://www.instagram.com/sagrerabrazildesign/?__a=1&__d=dis) >>> \n",
      " 20%|████████████████▏                                                                | 28/140 [04:26<17:17,  9.27s/it]"
     ]
    },
    {
     "name": "stdout",
     "output_type": "stream",
     "text": [
      "login_required sagrerabrazildesign\n"
     ]
    },
    {
     "name": "stderr",
     "output_type": "stream",
     "text": [
      "Status 201: JSONDecodeError in public_request (url=https://www.instagram.com/bathxpertz/?__a=1&__d=dis) >>> \n",
      "Status 201: JSONDecodeError in public_request (url=https://www.instagram.com/bathxpertz/?__a=1&__d=dis) >>> \n",
      "Status 201: JSONDecodeError in public_request (url=https://www.instagram.com/bathxpertz/?__a=1&__d=dis) >>> \n",
      " 21%|████████████████▊                                                                | 29/140 [04:35<17:09,  9.27s/it]"
     ]
    },
    {
     "name": "stdout",
     "output_type": "stream",
     "text": [
      "login_required bathxpertz\n"
     ]
    },
    {
     "name": "stderr",
     "output_type": "stream",
     "text": [
      "Status 201: JSONDecodeError in public_request (url=https://www.instagram.com/brazilian_construction/?__a=1&__d=dis) >>> \n",
      "Status 201: JSONDecodeError in public_request (url=https://www.instagram.com/brazilian_construction/?__a=1&__d=dis) >>> \n",
      "Status 201: JSONDecodeError in public_request (url=https://www.instagram.com/brazilian_construction/?__a=1&__d=dis) >>> \n",
      " 21%|█████████████████▎                                                               | 30/140 [04:46<17:35,  9.59s/it]"
     ]
    },
    {
     "name": "stdout",
     "output_type": "stream",
     "text": [
      "login_required brazilian_construction\n"
     ]
    },
    {
     "name": "stderr",
     "output_type": "stream",
     "text": [
      "Status 201: JSONDecodeError in public_request (url=https://www.instagram.com/noah_reanna/?__a=1&__d=dis) >>> \n",
      "Status 201: JSONDecodeError in public_request (url=https://www.instagram.com/noah_reanna/?__a=1&__d=dis) >>> \n",
      "Status 201: JSONDecodeError in public_request (url=https://www.instagram.com/noah_reanna/?__a=1&__d=dis) >>> \n",
      " 22%|█████████████████▉                                                               | 31/140 [04:55<17:30,  9.64s/it]"
     ]
    },
    {
     "name": "stdout",
     "output_type": "stream",
     "text": [
      "login_required noah_reanna\n"
     ]
    },
    {
     "name": "stderr",
     "output_type": "stream",
     "text": [
      "Status 201: JSONDecodeError in public_request (url=https://www.instagram.com/matthieusalvaing/?__a=1&__d=dis) >>> \n",
      "Status 201: JSONDecodeError in public_request (url=https://www.instagram.com/matthieusalvaing/?__a=1&__d=dis) >>> \n",
      "Status 201: JSONDecodeError in public_request (url=https://www.instagram.com/matthieusalvaing/?__a=1&__d=dis) >>> \n",
      " 23%|██████████████████▌                                                              | 32/140 [05:05<17:06,  9.50s/it]"
     ]
    },
    {
     "name": "stdout",
     "output_type": "stream",
     "text": [
      "login_required matthieusalvaing\n"
     ]
    },
    {
     "name": "stderr",
     "output_type": "stream",
     "text": [
      "Status 201: JSONDecodeError in public_request (url=https://www.instagram.com/nedlawroofs/?__a=1&__d=dis) >>> \n",
      "Status 201: JSONDecodeError in public_request (url=https://www.instagram.com/nedlawroofs/?__a=1&__d=dis) >>> \n",
      "Status 201: JSONDecodeError in public_request (url=https://www.instagram.com/nedlawroofs/?__a=1&__d=dis) >>> \n",
      " 24%|███████████████████                                                              | 33/140 [05:14<17:03,  9.57s/it]"
     ]
    },
    {
     "name": "stdout",
     "output_type": "stream",
     "text": [
      "login_required nedlawroofs\n"
     ]
    },
    {
     "name": "stderr",
     "output_type": "stream",
     "text": [
      "Status 201: JSONDecodeError in public_request (url=https://www.instagram.com/brazilianmaids702/?__a=1&__d=dis) >>> \n",
      "Status 201: JSONDecodeError in public_request (url=https://www.instagram.com/brazilianmaids702/?__a=1&__d=dis) >>> \n",
      "Status 201: JSONDecodeError in public_request (url=https://www.instagram.com/brazilianmaids702/?__a=1&__d=dis) >>> \n",
      " 24%|███████████████████▋                                                             | 34/140 [05:25<17:25,  9.86s/it]"
     ]
    },
    {
     "name": "stdout",
     "output_type": "stream",
     "text": [
      "login_required brazilianmaids702\n"
     ]
    },
    {
     "name": "stderr",
     "output_type": "stream",
     "text": [
      "Status 201: JSONDecodeError in public_request (url=https://www.instagram.com/braziliancleaningga/?__a=1&__d=dis) >>> \n",
      "Status 201: JSONDecodeError in public_request (url=https://www.instagram.com/braziliancleaningga/?__a=1&__d=dis) >>> \n",
      "Status 201: JSONDecodeError in public_request (url=https://www.instagram.com/braziliancleaningga/?__a=1&__d=dis) >>> \n",
      " 25%|████████████████████▎                                                            | 35/140 [05:34<16:53,  9.65s/it]"
     ]
    },
    {
     "name": "stdout",
     "output_type": "stream",
     "text": [
      "login_required braziliancleaningga\n"
     ]
    },
    {
     "name": "stderr",
     "output_type": "stream",
     "text": [
      "Status 201: JSONDecodeError in public_request (url=https://www.instagram.com/brazil.service/?__a=1&__d=dis) >>> \n",
      "Status 201: JSONDecodeError in public_request (url=https://www.instagram.com/brazil.service/?__a=1&__d=dis) >>> \n",
      "Status 201: JSONDecodeError in public_request (url=https://www.instagram.com/brazil.service/?__a=1&__d=dis) >>> \n",
      " 26%|████████████████████▊                                                            | 36/140 [05:43<16:31,  9.54s/it]"
     ]
    },
    {
     "name": "stdout",
     "output_type": "stream",
     "text": [
      "login_required brazil.service\n"
     ]
    },
    {
     "name": "stderr",
     "output_type": "stream",
     "text": [
      "Status 201: JSONDecodeError in public_request (url=https://www.instagram.com/vanesa_amaro_/?__a=1&__d=dis) >>> \n",
      "Status 201: JSONDecodeError in public_request (url=https://www.instagram.com/vanesa_amaro_/?__a=1&__d=dis) >>> \n",
      "Status 201: JSONDecodeError in public_request (url=https://www.instagram.com/vanesa_amaro_/?__a=1&__d=dis) >>> \n",
      " 26%|█████████████████████▍                                                           | 37/140 [05:53<16:23,  9.54s/it]"
     ]
    },
    {
     "name": "stdout",
     "output_type": "stream",
     "text": [
      "login_required vanesa_amaro_\n"
     ]
    },
    {
     "name": "stderr",
     "output_type": "stream",
     "text": [
      "Status 201: JSONDecodeError in public_request (url=https://www.instagram.com/thecolonial_on_park/?__a=1&__d=dis) >>> \n",
      "Status 201: JSONDecodeError in public_request (url=https://www.instagram.com/thecolonial_on_park/?__a=1&__d=dis) >>> \n",
      "Status 201: JSONDecodeError in public_request (url=https://www.instagram.com/thecolonial_on_park/?__a=1&__d=dis) >>> \n",
      " 27%|█████████████████████▉                                                           | 38/140 [06:02<16:07,  9.49s/it]"
     ]
    },
    {
     "name": "stdout",
     "output_type": "stream",
     "text": [
      "login_required thecolonial_on_park\n"
     ]
    },
    {
     "name": "stderr",
     "output_type": "stream",
     "text": [
      "Status 201: JSONDecodeError in public_request (url=https://www.instagram.com/newsjgroup/?__a=1&__d=dis) >>> \n",
      "Status 201: JSONDecodeError in public_request (url=https://www.instagram.com/newsjgroup/?__a=1&__d=dis) >>> \n",
      "Status 201: JSONDecodeError in public_request (url=https://www.instagram.com/newsjgroup/?__a=1&__d=dis) >>> \n",
      " 28%|██████████████████████▌                                                          | 39/140 [06:12<16:10,  9.61s/it]"
     ]
    },
    {
     "name": "stdout",
     "output_type": "stream",
     "text": [
      "login_required newsjgroup\n"
     ]
    },
    {
     "name": "stderr",
     "output_type": "stream",
     "text": [
      "Status 201: JSONDecodeError in public_request (url=https://www.instagram.com/costabrazil/?__a=1&__d=dis) >>> \n",
      "Status 201: JSONDecodeError in public_request (url=https://www.instagram.com/costabrazil/?__a=1&__d=dis) >>> \n",
      "Status 201: JSONDecodeError in public_request (url=https://www.instagram.com/costabrazil/?__a=1&__d=dis) >>> \n",
      " 29%|███████████████████████▏                                                         | 40/140 [06:21<15:50,  9.50s/it]"
     ]
    },
    {
     "name": "stdout",
     "output_type": "stream",
     "text": [
      "login_required costabrazil\n"
     ]
    },
    {
     "name": "stderr",
     "output_type": "stream",
     "text": [
      "Status 201: JSONDecodeError in public_request (url=https://www.instagram.com/sarabendrick/?__a=1&__d=dis) >>> \n",
      "Status 201: JSONDecodeError in public_request (url=https://www.instagram.com/sarabendrick/?__a=1&__d=dis) >>> \n",
      "Status 201: JSONDecodeError in public_request (url=https://www.instagram.com/sarabendrick/?__a=1&__d=dis) >>> \n",
      " 29%|███████████████████████▋                                                         | 41/140 [06:31<15:57,  9.68s/it]"
     ]
    },
    {
     "name": "stdout",
     "output_type": "stream",
     "text": [
      "login_required sarabendrick\n"
     ]
    },
    {
     "name": "stderr",
     "output_type": "stream",
     "text": [
      "Status 201: JSONDecodeError in public_request (url=https://www.instagram.com/hanashappyhome/?__a=1&__d=dis) >>> \n",
      "Status 201: JSONDecodeError in public_request (url=https://www.instagram.com/hanashappyhome/?__a=1&__d=dis) >>> \n",
      "Status 201: JSONDecodeError in public_request (url=https://www.instagram.com/hanashappyhome/?__a=1&__d=dis) >>> \n",
      " 30%|████████████████████████▎                                                        | 42/140 [06:41<15:38,  9.57s/it]"
     ]
    },
    {
     "name": "stdout",
     "output_type": "stream",
     "text": [
      "login_required hanashappyhome\n"
     ]
    },
    {
     "name": "stderr",
     "output_type": "stream",
     "text": [
      "Status 201: JSONDecodeError in public_request (url=https://www.instagram.com/ezplumbingusa/?__a=1&__d=dis) >>> \n",
      "Status 201: JSONDecodeError in public_request (url=https://www.instagram.com/ezplumbingusa/?__a=1&__d=dis) >>> \n",
      "Status 201: JSONDecodeError in public_request (url=https://www.instagram.com/ezplumbingusa/?__a=1&__d=dis) >>> \n",
      " 31%|████████████████████████▉                                                        | 43/140 [06:50<15:18,  9.47s/it]"
     ]
    },
    {
     "name": "stdout",
     "output_type": "stream",
     "text": [
      "login_required ezplumbingusa\n"
     ]
    },
    {
     "name": "stderr",
     "output_type": "stream",
     "text": [
      "Status 201: JSONDecodeError in public_request (url=https://www.instagram.com/sepurahome/?__a=1&__d=dis) >>> \n",
      "Status 201: JSONDecodeError in public_request (url=https://www.instagram.com/sepurahome/?__a=1&__d=dis) >>> \n",
      "Status 201: JSONDecodeError in public_request (url=https://www.instagram.com/sepurahome/?__a=1&__d=dis) >>> \n",
      " 31%|█████████████████████████▍                                                       | 44/140 [06:59<15:01,  9.39s/it]"
     ]
    },
    {
     "name": "stdout",
     "output_type": "stream",
     "text": [
      "login_required sepurahome\n"
     ]
    },
    {
     "name": "stderr",
     "output_type": "stream",
     "text": [
      "Status 201: JSONDecodeError in public_request (url=https://www.instagram.com/siaco_plumbing_inc/?__a=1&__d=dis) >>> \n",
      "Status 201: JSONDecodeError in public_request (url=https://www.instagram.com/siaco_plumbing_inc/?__a=1&__d=dis) >>> \n",
      "Status 201: JSONDecodeError in public_request (url=https://www.instagram.com/siaco_plumbing_inc/?__a=1&__d=dis) >>> \n",
      " 32%|██████████████████████████                                                       | 45/140 [07:09<14:53,  9.40s/it]"
     ]
    },
    {
     "name": "stdout",
     "output_type": "stream",
     "text": [
      "login_required siaco_plumbing_inc\n"
     ]
    },
    {
     "name": "stderr",
     "output_type": "stream",
     "text": [
      "Status 201: JSONDecodeError in public_request (url=https://www.instagram.com/aaaplumbingsupply/?__a=1&__d=dis) >>> \n",
      "Status 201: JSONDecodeError in public_request (url=https://www.instagram.com/aaaplumbingsupply/?__a=1&__d=dis) >>> \n",
      "Status 201: JSONDecodeError in public_request (url=https://www.instagram.com/aaaplumbingsupply/?__a=1&__d=dis) >>> \n",
      " 33%|██████████████████████████▌                                                      | 46/140 [07:18<14:48,  9.46s/it]"
     ]
    },
    {
     "name": "stdout",
     "output_type": "stream",
     "text": [
      "login_required aaaplumbingsupply\n"
     ]
    },
    {
     "name": "stderr",
     "output_type": "stream",
     "text": [
      "Status 201: JSONDecodeError in public_request (url=https://www.instagram.com/simplyalignedhome/?__a=1&__d=dis) >>> \n",
      "Status 201: JSONDecodeError in public_request (url=https://www.instagram.com/simplyalignedhome/?__a=1&__d=dis) >>> \n",
      "Status 201: JSONDecodeError in public_request (url=https://www.instagram.com/simplyalignedhome/?__a=1&__d=dis) >>> \n",
      " 34%|███████████████████████████▏                                                     | 47/140 [07:28<14:39,  9.46s/it]"
     ]
    },
    {
     "name": "stdout",
     "output_type": "stream",
     "text": [
      "login_required simplyalignedhome\n"
     ]
    },
    {
     "name": "stderr",
     "output_type": "stream",
     "text": [
      "Status 201: JSONDecodeError in public_request (url=https://www.instagram.com/schone.ph/?__a=1&__d=dis) >>> \n",
      "Status 201: JSONDecodeError in public_request (url=https://www.instagram.com/schone.ph/?__a=1&__d=dis) >>> \n",
      "Status 201: JSONDecodeError in public_request (url=https://www.instagram.com/schone.ph/?__a=1&__d=dis) >>> \n",
      " 34%|███████████████████████████▊                                                     | 48/140 [07:37<14:23,  9.39s/it]"
     ]
    },
    {
     "name": "stdout",
     "output_type": "stream",
     "text": [
      "login_required schone.ph\n"
     ]
    },
    {
     "name": "stderr",
     "output_type": "stream",
     "text": [
      "Status 201: JSONDecodeError in public_request (url=https://www.instagram.com/justaconstructionguy/?__a=1&__d=dis) >>> \n",
      "Status 201: JSONDecodeError in public_request (url=https://www.instagram.com/justaconstructionguy/?__a=1&__d=dis) >>> \n",
      "Status 201: JSONDecodeError in public_request (url=https://www.instagram.com/justaconstructionguy/?__a=1&__d=dis) >>> \n",
      " 35%|████████████████████████████▎                                                    | 49/140 [07:46<14:07,  9.32s/it]"
     ]
    },
    {
     "name": "stdout",
     "output_type": "stream",
     "text": [
      "login_required justaconstructionguy\n"
     ]
    },
    {
     "name": "stderr",
     "output_type": "stream",
     "text": [
      "Status 201: JSONDecodeError in public_request (url=https://www.instagram.com/jaredroofingservices/?__a=1&__d=dis) >>> \n",
      "Status 201: JSONDecodeError in public_request (url=https://www.instagram.com/jaredroofingservices/?__a=1&__d=dis) >>> \n",
      "Status 201: JSONDecodeError in public_request (url=https://www.instagram.com/jaredroofingservices/?__a=1&__d=dis) >>> \n",
      " 36%|████████████████████████████▉                                                    | 50/140 [07:55<13:58,  9.32s/it]"
     ]
    },
    {
     "name": "stdout",
     "output_type": "stream",
     "text": [
      "login_required jaredroofingservices\n"
     ]
    },
    {
     "name": "stderr",
     "output_type": "stream",
     "text": [
      "Status 201: JSONDecodeError in public_request (url=https://www.instagram.com/brookelindsayharris/?__a=1&__d=dis) >>> \n",
      "Status 201: JSONDecodeError in public_request (url=https://www.instagram.com/brookelindsayharris/?__a=1&__d=dis) >>> \n",
      "Status 201: JSONDecodeError in public_request (url=https://www.instagram.com/brookelindsayharris/?__a=1&__d=dis) >>> \n",
      " 36%|█████████████████████████████▌                                                   | 51/140 [08:05<13:47,  9.30s/it]"
     ]
    },
    {
     "name": "stdout",
     "output_type": "stream",
     "text": [
      "login_required brookelindsayharris\n"
     ]
    },
    {
     "name": "stderr",
     "output_type": "stream",
     "text": [
      "Status 201: JSONDecodeError in public_request (url=https://www.instagram.com/eloisalopez/?__a=1&__d=dis) >>> \n",
      "Status 201: JSONDecodeError in public_request (url=https://www.instagram.com/eloisalopez/?__a=1&__d=dis) >>> \n",
      "Status 201: JSONDecodeError in public_request (url=https://www.instagram.com/eloisalopez/?__a=1&__d=dis) >>> \n",
      " 37%|██████████████████████████████                                                   | 52/140 [08:14<13:47,  9.40s/it]"
     ]
    },
    {
     "name": "stdout",
     "output_type": "stream",
     "text": [
      "login_required eloisalopez\n"
     ]
    },
    {
     "name": "stderr",
     "output_type": "stream",
     "text": [
      "Status 201: JSONDecodeError in public_request (url=https://www.instagram.com/metalinkcorp/?__a=1&__d=dis) >>> \n",
      "Status 201: JSONDecodeError in public_request (url=https://www.instagram.com/metalinkcorp/?__a=1&__d=dis) >>> \n",
      "Status 201: JSONDecodeError in public_request (url=https://www.instagram.com/metalinkcorp/?__a=1&__d=dis) >>> \n",
      " 38%|██████████████████████████████▋                                                  | 53/140 [08:24<13:32,  9.34s/it]"
     ]
    },
    {
     "name": "stdout",
     "output_type": "stream",
     "text": [
      "login_required metalinkcorp\n"
     ]
    },
    {
     "name": "stderr",
     "output_type": "stream",
     "text": [
      "Status 201: JSONDecodeError in public_request (url=https://www.instagram.com/cleaningladyph/?__a=1&__d=dis) >>> \n",
      "Status 201: JSONDecodeError in public_request (url=https://www.instagram.com/cleaningladyph/?__a=1&__d=dis) >>> \n",
      "Status 201: JSONDecodeError in public_request (url=https://www.instagram.com/cleaningladyph/?__a=1&__d=dis) >>> \n",
      " 39%|███████████████████████████████▏                                                 | 54/140 [08:33<13:30,  9.43s/it]"
     ]
    },
    {
     "name": "stdout",
     "output_type": "stream",
     "text": [
      "login_required cleaningladyph\n"
     ]
    },
    {
     "name": "stderr",
     "output_type": "stream",
     "text": [
      "Status 201: JSONDecodeError in public_request (url=https://www.instagram.com/ategirlph/?__a=1&__d=dis) >>> \n",
      "Status 201: JSONDecodeError in public_request (url=https://www.instagram.com/ategirlph/?__a=1&__d=dis) >>> \n",
      "Status 201: JSONDecodeError in public_request (url=https://www.instagram.com/ategirlph/?__a=1&__d=dis) >>> \n",
      " 39%|███████████████████████████████▊                                                 | 55/140 [08:42<13:15,  9.35s/it]"
     ]
    },
    {
     "name": "stdout",
     "output_type": "stream",
     "text": [
      "login_required ategirlph\n"
     ]
    },
    {
     "name": "stderr",
     "output_type": "stream",
     "text": [
      "Status 201: JSONDecodeError in public_request (url=https://www.instagram.com/lillycarpetcleaningservices/?__a=1&__d=dis) >>> \n",
      "Status 201: JSONDecodeError in public_request (url=https://www.instagram.com/lillycarpetcleaningservices/?__a=1&__d=dis) >>> \n",
      "Status 201: JSONDecodeError in public_request (url=https://www.instagram.com/lillycarpetcleaningservices/?__a=1&__d=dis) >>> \n",
      " 40%|████████████████████████████████▍                                                | 56/140 [08:52<13:01,  9.30s/it]"
     ]
    },
    {
     "name": "stdout",
     "output_type": "stream",
     "text": [
      "login_required lillycarpetcleaningservices\n"
     ]
    },
    {
     "name": "stderr",
     "output_type": "stream",
     "text": [
      "Status 201: JSONDecodeError in public_request (url=https://www.instagram.com/cleancityph/?__a=1&__d=dis) >>> \n",
      "Status 201: JSONDecodeError in public_request (url=https://www.instagram.com/cleancityph/?__a=1&__d=dis) >>> \n",
      "Status 201: JSONDecodeError in public_request (url=https://www.instagram.com/cleancityph/?__a=1&__d=dis) >>> \n",
      " 41%|████████████████████████████████▉                                                | 57/140 [09:01<12:48,  9.26s/it]"
     ]
    },
    {
     "name": "stdout",
     "output_type": "stream",
     "text": [
      "login_required cleancityph\n"
     ]
    },
    {
     "name": "stderr",
     "output_type": "stream",
     "text": [
      "Status 201: JSONDecodeError in public_request (url=https://www.instagram.com/cloroxph/?__a=1&__d=dis) >>> \n",
      "Status 201: JSONDecodeError in public_request (url=https://www.instagram.com/cloroxph/?__a=1&__d=dis) >>> \n",
      "Status 201: JSONDecodeError in public_request (url=https://www.instagram.com/cloroxph/?__a=1&__d=dis) >>> \n",
      " 41%|█████████████████████████████████▌                                               | 58/140 [09:10<12:43,  9.31s/it]"
     ]
    },
    {
     "name": "stdout",
     "output_type": "stream",
     "text": [
      "login_required cloroxph\n"
     ]
    },
    {
     "name": "stderr",
     "output_type": "stream",
     "text": [
      "Status 201: JSONDecodeError in public_request (url=https://www.instagram.com/garooda_pressurewash/?__a=1&__d=dis) >>> \n",
      "Status 201: JSONDecodeError in public_request (url=https://www.instagram.com/garooda_pressurewash/?__a=1&__d=dis) >>> \n",
      "Status 201: JSONDecodeError in public_request (url=https://www.instagram.com/garooda_pressurewash/?__a=1&__d=dis) >>> \n",
      " 42%|██████████████████████████████████▏                                              | 59/140 [09:19<12:34,  9.32s/it]"
     ]
    },
    {
     "name": "stdout",
     "output_type": "stream",
     "text": [
      "login_required garooda_pressurewash\n"
     ]
    },
    {
     "name": "stderr",
     "output_type": "stream",
     "text": [
      "Status 201: JSONDecodeError in public_request (url=https://www.instagram.com/nycpowerwash/?__a=1&__d=dis) >>> \n",
      "Status 201: JSONDecodeError in public_request (url=https://www.instagram.com/nycpowerwash/?__a=1&__d=dis) >>> \n",
      "Status 201: JSONDecodeError in public_request (url=https://www.instagram.com/nycpowerwash/?__a=1&__d=dis) >>> \n",
      " 43%|██████████████████████████████████▋                                              | 60/140 [09:29<12:22,  9.28s/it]"
     ]
    },
    {
     "name": "stdout",
     "output_type": "stream",
     "text": [
      "login_required nycpowerwash\n"
     ]
    },
    {
     "name": "stderr",
     "output_type": "stream",
     "text": [
      "Status 201: JSONDecodeError in public_request (url=https://www.instagram.com/andriatupola/?__a=1&__d=dis) >>> \n",
      "Status 201: JSONDecodeError in public_request (url=https://www.instagram.com/andriatupola/?__a=1&__d=dis) >>> \n",
      "Status 201: JSONDecodeError in public_request (url=https://www.instagram.com/andriatupola/?__a=1&__d=dis) >>> \n",
      " 44%|███████████████████████████████████▎                                             | 61/140 [09:38<12:11,  9.26s/it]"
     ]
    },
    {
     "name": "stdout",
     "output_type": "stream",
     "text": [
      "login_required andriatupola\n"
     ]
    },
    {
     "name": "stderr",
     "output_type": "stream",
     "text": [
      "Status 201: JSONDecodeError in public_request (url=https://www.instagram.com/aura_plumbing/?__a=1&__d=dis) >>> \n",
      "Status 201: JSONDecodeError in public_request (url=https://www.instagram.com/aura_plumbing/?__a=1&__d=dis) >>> \n",
      "Status 201: JSONDecodeError in public_request (url=https://www.instagram.com/aura_plumbing/?__a=1&__d=dis) >>> \n",
      " 44%|███████████████████████████████████▊                                             | 62/140 [09:47<12:01,  9.26s/it]"
     ]
    },
    {
     "name": "stdout",
     "output_type": "stream",
     "text": [
      "login_required aura_plumbing\n"
     ]
    },
    {
     "name": "stderr",
     "output_type": "stream",
     "text": [
      "Status 201: JSONDecodeError in public_request (url=https://www.instagram.com/colgeneplumbing/?__a=1&__d=dis) >>> \n",
      "Status 201: JSONDecodeError in public_request (url=https://www.instagram.com/colgeneplumbing/?__a=1&__d=dis) >>> \n",
      "Status 201: JSONDecodeError in public_request (url=https://www.instagram.com/colgeneplumbing/?__a=1&__d=dis) >>> \n",
      " 45%|████████████████████████████████████▍                                            | 63/140 [09:56<11:52,  9.26s/it]"
     ]
    },
    {
     "name": "stdout",
     "output_type": "stream",
     "text": [
      "login_required colgeneplumbing\n"
     ]
    },
    {
     "name": "stderr",
     "output_type": "stream",
     "text": [
      "Status 201: JSONDecodeError in public_request (url=https://www.instagram.com/akara_cafe/?__a=1&__d=dis) >>> \n",
      "Status 201: JSONDecodeError in public_request (url=https://www.instagram.com/akara_cafe/?__a=1&__d=dis) >>> \n",
      "Status 201: JSONDecodeError in public_request (url=https://www.instagram.com/akara_cafe/?__a=1&__d=dis) >>> \n",
      " 46%|█████████████████████████████████████                                            | 64/140 [10:06<11:43,  9.25s/it]"
     ]
    },
    {
     "name": "stdout",
     "output_type": "stream",
     "text": [
      "login_required akara_cafe\n"
     ]
    },
    {
     "name": "stderr",
     "output_type": "stream",
     "text": [
      "Status 201: JSONDecodeError in public_request (url=https://www.instagram.com/rencoplumbing_/?__a=1&__d=dis) >>> \n",
      "Status 201: JSONDecodeError in public_request (url=https://www.instagram.com/rencoplumbing_/?__a=1&__d=dis) >>> \n",
      "Status 201: JSONDecodeError in public_request (url=https://www.instagram.com/rencoplumbing_/?__a=1&__d=dis) >>> \n",
      " 46%|█████████████████████████████████████▌                                           | 65/140 [10:15<11:32,  9.24s/it]"
     ]
    },
    {
     "name": "stdout",
     "output_type": "stream",
     "text": [
      "login_required rencoplumbing_\n"
     ]
    },
    {
     "name": "stderr",
     "output_type": "stream",
     "text": [
      "Status 201: JSONDecodeError in public_request (url=https://www.instagram.com/danianbuildingconcepts/?__a=1&__d=dis) >>> \n",
      "Status 201: JSONDecodeError in public_request (url=https://www.instagram.com/danianbuildingconcepts/?__a=1&__d=dis) >>> \n",
      "Status 201: JSONDecodeError in public_request (url=https://www.instagram.com/danianbuildingconcepts/?__a=1&__d=dis) >>> \n",
      " 47%|██████████████████████████████████████▏                                          | 66/140 [10:24<11:28,  9.30s/it]"
     ]
    },
    {
     "name": "stdout",
     "output_type": "stream",
     "text": [
      "login_required danianbuildingconcepts\n"
     ]
    },
    {
     "name": "stderr",
     "output_type": "stream",
     "text": [
      "Status 201: JSONDecodeError in public_request (url=https://www.instagram.com/zebdecorng/?__a=1&__d=dis) >>> \n",
      "Status 201: JSONDecodeError in public_request (url=https://www.instagram.com/zebdecorng/?__a=1&__d=dis) >>> \n",
      "Status 201: JSONDecodeError in public_request (url=https://www.instagram.com/zebdecorng/?__a=1&__d=dis) >>> \n",
      " 48%|██████████████████████████████████████▊                                          | 67/140 [10:33<11:15,  9.25s/it]"
     ]
    },
    {
     "name": "stdout",
     "output_type": "stream",
     "text": [
      "login_required zebdecorng\n"
     ]
    },
    {
     "name": "stderr",
     "output_type": "stream",
     "text": [
      "Status 201: JSONDecodeError in public_request (url=https://www.instagram.com/innovatebathroom/?__a=1&__d=dis) >>> \n",
      "Status 201: JSONDecodeError in public_request (url=https://www.instagram.com/innovatebathroom/?__a=1&__d=dis) >>> \n",
      "Status 201: JSONDecodeError in public_request (url=https://www.instagram.com/innovatebathroom/?__a=1&__d=dis) >>> \n",
      " 49%|███████████████████████████████████████▎                                         | 68/140 [10:43<11:05,  9.25s/it]"
     ]
    },
    {
     "name": "stdout",
     "output_type": "stream",
     "text": [
      "login_required innovatebathroom\n"
     ]
    },
    {
     "name": "stderr",
     "output_type": "stream",
     "text": [
      "Status 201: JSONDecodeError in public_request (url=https://www.instagram.com/rec.contracting/?__a=1&__d=dis) >>> \n",
      "Status 201: JSONDecodeError in public_request (url=https://www.instagram.com/rec.contracting/?__a=1&__d=dis) >>> \n",
      " 49%|███████████████████████████████████████▉                                         | 69/140 [11:54<33:06, 27.97s/it]"
     ]
    },
    {
     "name": "stdout",
     "output_type": "stream",
     "text": [
      "ConnectionError HTTPSConnectionPool(host='i.instagram.com', port=443): Max retries exceeded with url: /api/v1/users/rec.contracting/usernameinfo/ (Caused by NewConnectionError('<urllib3.connection.HTTPSConnection object at 0x000001B9F6F52590>: Failed to establish a new connection: [Errno 11001] getaddrinfo failed')) rec.contracting\n"
     ]
    },
    {
     "name": "stderr",
     "output_type": "stream",
     "text": [
      "\r",
      " 50%|████████████████████████████████████████▌                                        | 70/140 [12:51<42:32, 36.46s/it]"
     ]
    },
    {
     "name": "stdout",
     "output_type": "stream",
     "text": [
      "ConnectionError HTTPSConnectionPool(host='i.instagram.com', port=443): Max retries exceeded with url: /api/v1/users/imranroofingsystem/usernameinfo/ (Caused by NewConnectionError('<urllib3.connection.HTTPSConnection object at 0x000001B9F6F7A210>: Failed to establish a new connection: [Errno 11001] getaddrinfo failed')) imranroofingsystem\n"
     ]
    },
    {
     "name": "stderr",
     "output_type": "stream",
     "text": [
      "\r",
      " 51%|█████████████████████████████████████████                                        | 71/140 [13:49<49:36, 43.14s/it]"
     ]
    },
    {
     "name": "stdout",
     "output_type": "stream",
     "text": [
      "login_required icyocyroofing\n"
     ]
    },
    {
     "name": "stderr",
     "output_type": "stream",
     "text": [
      "Status 201: JSONDecodeError in public_request (url=https://www.instagram.com/catenapaints_roofs/?__a=1&__d=dis) >>> \n",
      "Status 201: JSONDecodeError in public_request (url=https://www.instagram.com/catenapaints_roofs/?__a=1&__d=dis) >>> \n",
      "Status 201: JSONDecodeError in public_request (url=https://www.instagram.com/catenapaints_roofs/?__a=1&__d=dis) >>> \n",
      " 51%|█████████████████████████████████████████▋                                       | 72/140 [14:00<37:44, 33.31s/it]"
     ]
    },
    {
     "name": "stdout",
     "output_type": "stream",
     "text": [
      "login_required catenapaints_roofs\n"
     ]
    },
    {
     "name": "stderr",
     "output_type": "stream",
     "text": [
      "Status 201: JSONDecodeError in public_request (url=https://www.instagram.com/spotlight_cleaning_services/?__a=1&__d=dis) >>> \n",
      "Status 201: JSONDecodeError in public_request (url=https://www.instagram.com/spotlight_cleaning_services/?__a=1&__d=dis) >>> \n",
      "Status 201: JSONDecodeError in public_request (url=https://www.instagram.com/spotlight_cleaning_services/?__a=1&__d=dis) >>> \n",
      " 52%|██████████████████████████████████████████▏                                      | 73/140 [14:09<29:08, 26.10s/it]"
     ]
    },
    {
     "name": "stdout",
     "output_type": "stream",
     "text": [
      "login_required spotlight_cleaning_services\n"
     ]
    },
    {
     "name": "stderr",
     "output_type": "stream",
     "text": [
      "Status 201: JSONDecodeError in public_request (url=https://www.instagram.com/debbieromeo/?__a=1&__d=dis) >>> \n",
      "Status 201: JSONDecodeError in public_request (url=https://www.instagram.com/debbieromeo/?__a=1&__d=dis) >>> \n",
      "Status 201: JSONDecodeError in public_request (url=https://www.instagram.com/debbieromeo/?__a=1&__d=dis) >>> \n",
      " 53%|██████████████████████████████████████████▊                                      | 74/140 [14:18<23:09, 21.05s/it]"
     ]
    },
    {
     "name": "stdout",
     "output_type": "stream",
     "text": [
      "login_required debbieromeo\n"
     ]
    },
    {
     "name": "stderr",
     "output_type": "stream",
     "text": [
      "Status 201: JSONDecodeError in public_request (url=https://www.instagram.com/pinnacleplumbingnz/?__a=1&__d=dis) >>> \n",
      "Status 201: JSONDecodeError in public_request (url=https://www.instagram.com/pinnacleplumbingnz/?__a=1&__d=dis) >>> \n",
      "Status 201: JSONDecodeError in public_request (url=https://www.instagram.com/pinnacleplumbingnz/?__a=1&__d=dis) >>> \n",
      " 54%|███████████████████████████████████████████▍                                     | 75/140 [14:27<18:58, 17.52s/it]"
     ]
    },
    {
     "name": "stdout",
     "output_type": "stream",
     "text": [
      "login_required pinnacleplumbingnz\n"
     ]
    },
    {
     "name": "stderr",
     "output_type": "stream",
     "text": [
      "Status 201: JSONDecodeError in public_request (url=https://www.instagram.com/plumbingserviceskenya/?__a=1&__d=dis) >>> \n",
      "Status 201: JSONDecodeError in public_request (url=https://www.instagram.com/plumbingserviceskenya/?__a=1&__d=dis) >>> \n",
      "Status 201: JSONDecodeError in public_request (url=https://www.instagram.com/plumbingserviceskenya/?__a=1&__d=dis) >>> \n",
      " 54%|███████████████████████████████████████████▉                                     | 76/140 [14:37<16:02, 15.04s/it]"
     ]
    },
    {
     "name": "stdout",
     "output_type": "stream",
     "text": [
      "login_required plumbingserviceskenya\n"
     ]
    },
    {
     "name": "stderr",
     "output_type": "stream",
     "text": [
      "Status 201: JSONDecodeError in public_request (url=https://www.instagram.com/pipe.doctor/?__a=1&__d=dis) >>> \n",
      "Status 201: JSONDecodeError in public_request (url=https://www.instagram.com/pipe.doctor/?__a=1&__d=dis) >>> \n",
      "Status 201: JSONDecodeError in public_request (url=https://www.instagram.com/pipe.doctor/?__a=1&__d=dis) >>> \n",
      " 55%|████████████████████████████████████████████▌                                    | 77/140 [14:47<14:11, 13.52s/it]"
     ]
    },
    {
     "name": "stdout",
     "output_type": "stream",
     "text": [
      "login_required pipe.doctor\n"
     ]
    },
    {
     "name": "stderr",
     "output_type": "stream",
     "text": [
      "Status 201: JSONDecodeError in public_request (url=https://www.instagram.com/keam_construction_n_interior/?__a=1&__d=dis) >>> \n",
      "Status 201: JSONDecodeError in public_request (url=https://www.instagram.com/keam_construction_n_interior/?__a=1&__d=dis) >>> \n",
      "Status 201: JSONDecodeError in public_request (url=https://www.instagram.com/keam_construction_n_interior/?__a=1&__d=dis) >>> \n",
      " 56%|█████████████████████████████████████████████▏                                   | 78/140 [14:56<12:40, 12.27s/it]"
     ]
    },
    {
     "name": "stdout",
     "output_type": "stream",
     "text": [
      "login_required keam_construction_n_interior\n"
     ]
    },
    {
     "name": "stderr",
     "output_type": "stream",
     "text": [
      "Status 201: JSONDecodeError in public_request (url=https://www.instagram.com/jnovogratz/?__a=1&__d=dis) >>> \n",
      "Status 201: JSONDecodeError in public_request (url=https://www.instagram.com/jnovogratz/?__a=1&__d=dis) >>> \n",
      "Status 201: JSONDecodeError in public_request (url=https://www.instagram.com/jnovogratz/?__a=1&__d=dis) >>> \n",
      " 56%|█████████████████████████████████████████████▋                                   | 79/140 [15:05<11:33, 11.36s/it]"
     ]
    },
    {
     "name": "stdout",
     "output_type": "stream",
     "text": [
      "login_required jnovogratz\n"
     ]
    },
    {
     "name": "stderr",
     "output_type": "stream",
     "text": [
      "Status 201: JSONDecodeError in public_request (url=https://www.instagram.com/rexe_roofing/?__a=1&__d=dis) >>> \n",
      "Status 201: JSONDecodeError in public_request (url=https://www.instagram.com/rexe_roofing/?__a=1&__d=dis) >>> \n",
      "Status 201: JSONDecodeError in public_request (url=https://www.instagram.com/rexe_roofing/?__a=1&__d=dis) >>> \n",
      " 57%|██████████████████████████████████████████████▎                                  | 80/140 [15:15<10:44, 10.74s/it]"
     ]
    },
    {
     "name": "stdout",
     "output_type": "stream",
     "text": [
      "login_required rexe_roofing\n"
     ]
    },
    {
     "name": "stderr",
     "output_type": "stream",
     "text": [
      "Status 201: JSONDecodeError in public_request (url=https://www.instagram.com/sangobuild.official/?__a=1&__d=dis) >>> \n",
      "Status 201: JSONDecodeError in public_request (url=https://www.instagram.com/sangobuild.official/?__a=1&__d=dis) >>> \n",
      "Status 201: JSONDecodeError in public_request (url=https://www.instagram.com/sangobuild.official/?__a=1&__d=dis) >>> \n",
      " 58%|██████████████████████████████████████████████▊                                  | 81/140 [15:24<10:06, 10.27s/it]"
     ]
    },
    {
     "name": "stdout",
     "output_type": "stream",
     "text": [
      "login_required sangobuild.official\n"
     ]
    },
    {
     "name": "stderr",
     "output_type": "stream",
     "text": [
      "Status 201: JSONDecodeError in public_request (url=https://www.instagram.com/zenfreshcleanerske/?__a=1&__d=dis) >>> \n",
      "Status 201: JSONDecodeError in public_request (url=https://www.instagram.com/zenfreshcleanerske/?__a=1&__d=dis) >>> \n",
      "Status 201: JSONDecodeError in public_request (url=https://www.instagram.com/zenfreshcleanerske/?__a=1&__d=dis) >>> \n",
      " 59%|███████████████████████████████████████████████▍                                 | 82/140 [15:33<09:38,  9.98s/it]"
     ]
    },
    {
     "name": "stdout",
     "output_type": "stream",
     "text": [
      "login_required zenfreshcleanerske\n"
     ]
    },
    {
     "name": "stderr",
     "output_type": "stream",
     "text": [
      "Status 201: JSONDecodeError in public_request (url=https://www.instagram.com/blissful.cleaning/?__a=1&__d=dis) >>> \n",
      "Status 201: JSONDecodeError in public_request (url=https://www.instagram.com/blissful.cleaning/?__a=1&__d=dis) >>> \n",
      "Status 201: JSONDecodeError in public_request (url=https://www.instagram.com/blissful.cleaning/?__a=1&__d=dis) >>> \n",
      " 59%|████████████████████████████████████████████████                                 | 83/140 [15:43<09:24,  9.90s/it]"
     ]
    },
    {
     "name": "stdout",
     "output_type": "stream",
     "text": [
      "login_required blissful.cleaning\n"
     ]
    },
    {
     "name": "stderr",
     "output_type": "stream",
     "text": [
      "Status 201: JSONDecodeError in public_request (url=https://www.instagram.com/deluxe_carpet_spa/?__a=1&__d=dis) >>> \n",
      "Status 201: JSONDecodeError in public_request (url=https://www.instagram.com/deluxe_carpet_spa/?__a=1&__d=dis) >>> \n",
      "Status 201: JSONDecodeError in public_request (url=https://www.instagram.com/deluxe_carpet_spa/?__a=1&__d=dis) >>> \n",
      " 60%|████████████████████████████████████████████████▌                                | 84/140 [15:52<09:02,  9.68s/it]"
     ]
    },
    {
     "name": "stdout",
     "output_type": "stream",
     "text": [
      "login_required deluxe_carpet_spa\n"
     ]
    },
    {
     "name": "stderr",
     "output_type": "stream",
     "text": [
      "Status 201: JSONDecodeError in public_request (url=https://www.instagram.com/kuela_car_wash/?__a=1&__d=dis) >>> \n",
      "Status 201: JSONDecodeError in public_request (url=https://www.instagram.com/kuela_car_wash/?__a=1&__d=dis) >>> \n",
      "Status 201: JSONDecodeError in public_request (url=https://www.instagram.com/kuela_car_wash/?__a=1&__d=dis) >>> \n",
      " 61%|█████████████████████████████████████████████████▏                               | 85/140 [16:01<08:44,  9.54s/it]"
     ]
    },
    {
     "name": "stdout",
     "output_type": "stream",
     "text": [
      "login_required kuela_car_wash\n"
     ]
    },
    {
     "name": "stderr",
     "output_type": "stream",
     "text": [
      "Status 201: JSONDecodeError in public_request (url=https://www.instagram.com/clean_home_services/?__a=1&__d=dis) >>> \n",
      "Status 201: JSONDecodeError in public_request (url=https://www.instagram.com/clean_home_services/?__a=1&__d=dis) >>> \n",
      "Status 201: JSONDecodeError in public_request (url=https://www.instagram.com/clean_home_services/?__a=1&__d=dis) >>> \n",
      " 61%|█████████████████████████████████████████████████▊                               | 86/140 [16:11<08:37,  9.58s/it]"
     ]
    },
    {
     "name": "stdout",
     "output_type": "stream",
     "text": [
      "login_required clean_home_services\n"
     ]
    },
    {
     "name": "stderr",
     "output_type": "stream",
     "text": [
      "Status 201: JSONDecodeError in public_request (url=https://www.instagram.com/dulycleaners/?__a=1&__d=dis) >>> \n",
      "Status 201: JSONDecodeError in public_request (url=https://www.instagram.com/dulycleaners/?__a=1&__d=dis) >>> \n",
      "Status 201: JSONDecodeError in public_request (url=https://www.instagram.com/dulycleaners/?__a=1&__d=dis) >>> \n",
      " 62%|██████████████████████████████████████████████████▎                              | 87/140 [16:20<08:23,  9.50s/it]"
     ]
    },
    {
     "name": "stdout",
     "output_type": "stream",
     "text": [
      "login_required dulycleaners\n"
     ]
    },
    {
     "name": "stderr",
     "output_type": "stream",
     "text": [
      "Status 201: JSONDecodeError in public_request (url=https://www.instagram.com/ingco_kenya/?__a=1&__d=dis) >>> \n",
      "Status 201: JSONDecodeError in public_request (url=https://www.instagram.com/ingco_kenya/?__a=1&__d=dis) >>> \n",
      "Status 201: JSONDecodeError in public_request (url=https://www.instagram.com/ingco_kenya/?__a=1&__d=dis) >>> \n",
      " 63%|██████████████████████████████████████████████████▉                              | 88/140 [16:30<08:17,  9.57s/it]"
     ]
    },
    {
     "name": "stdout",
     "output_type": "stream",
     "text": [
      "login_required ingco_kenya\n"
     ]
    },
    {
     "name": "stderr",
     "output_type": "stream",
     "text": [
      "Status 201: JSONDecodeError in public_request (url=https://www.instagram.com/kendralconyers/?__a=1&__d=dis) >>> \n",
      "Status 201: JSONDecodeError in public_request (url=https://www.instagram.com/kendralconyers/?__a=1&__d=dis) >>> \n",
      "Status 201: JSONDecodeError in public_request (url=https://www.instagram.com/kendralconyers/?__a=1&__d=dis) >>> \n",
      " 64%|███████████████████████████████████████████████████▍                             | 89/140 [16:39<08:08,  9.58s/it]"
     ]
    },
    {
     "name": "stdout",
     "output_type": "stream",
     "text": [
      "login_required kendralconyers\n"
     ]
    },
    {
     "name": "stderr",
     "output_type": "stream",
     "text": [
      "Status 201: JSONDecodeError in public_request (url=https://www.instagram.com/kapsplum/?__a=1&__d=dis) >>> \n",
      "Status 201: JSONDecodeError in public_request (url=https://www.instagram.com/kapsplum/?__a=1&__d=dis) >>> \n",
      "Status 201: JSONDecodeError in public_request (url=https://www.instagram.com/kapsplum/?__a=1&__d=dis) >>> \n",
      " 64%|████████████████████████████████████████████████████                             | 90/140 [16:49<07:54,  9.49s/it]"
     ]
    },
    {
     "name": "stdout",
     "output_type": "stream",
     "text": [
      "login_required kapsplum\n"
     ]
    },
    {
     "name": "stderr",
     "output_type": "stream",
     "text": [
      "Status 201: JSONDecodeError in public_request (url=https://www.instagram.com/uniqueplumbers/?__a=1&__d=dis) >>> \n",
      "Status 201: JSONDecodeError in public_request (url=https://www.instagram.com/uniqueplumbers/?__a=1&__d=dis) >>> \n",
      "Status 201: JSONDecodeError in public_request (url=https://www.instagram.com/uniqueplumbers/?__a=1&__d=dis) >>> \n",
      " 65%|████████████████████████████████████████████████████▋                            | 91/140 [16:58<07:40,  9.40s/it]"
     ]
    },
    {
     "name": "stdout",
     "output_type": "stream",
     "text": [
      "login_required uniqueplumbers\n"
     ]
    },
    {
     "name": "stderr",
     "output_type": "stream",
     "text": [
      "Status 201: JSONDecodeError in public_request (url=https://www.instagram.com/royalafricageneraltradingltd/?__a=1&__d=dis) >>> \n",
      "Status 201: JSONDecodeError in public_request (url=https://www.instagram.com/royalafricageneraltradingltd/?__a=1&__d=dis) >>> \n",
      "Status 201: JSONDecodeError in public_request (url=https://www.instagram.com/royalafricageneraltradingltd/?__a=1&__d=dis) >>> \n",
      " 66%|█████████████████████████████████████████████████████▏                           | 92/140 [17:08<07:35,  9.48s/it]"
     ]
    },
    {
     "name": "stdout",
     "output_type": "stream",
     "text": [
      "login_required royalafricageneraltradingltd\n"
     ]
    },
    {
     "name": "stderr",
     "output_type": "stream",
     "text": [
      "Status 201: JSONDecodeError in public_request (url=https://www.instagram.com/homart_group_uganda/?__a=1&__d=dis) >>> \n",
      "Status 201: JSONDecodeError in public_request (url=https://www.instagram.com/homart_group_uganda/?__a=1&__d=dis) >>> \n",
      "Status 201: JSONDecodeError in public_request (url=https://www.instagram.com/homart_group_uganda/?__a=1&__d=dis) >>> \n",
      " 66%|█████████████████████████████████████████████████████▊                           | 93/140 [17:17<07:26,  9.49s/it]"
     ]
    },
    {
     "name": "stdout",
     "output_type": "stream",
     "text": [
      "login_required homart_group_uganda\n"
     ]
    },
    {
     "name": "stderr",
     "output_type": "stream",
     "text": [
      "Status 201: JSONDecodeError in public_request (url=https://www.instagram.com/spicinghomes/?__a=1&__d=dis) >>> \n",
      "Status 201: JSONDecodeError in public_request (url=https://www.instagram.com/spicinghomes/?__a=1&__d=dis) >>> \n",
      "Status 201: JSONDecodeError in public_request (url=https://www.instagram.com/spicinghomes/?__a=1&__d=dis) >>> \n",
      " 67%|██████████████████████████████████████████████████████▍                          | 94/140 [17:26<07:12,  9.40s/it]"
     ]
    },
    {
     "name": "stdout",
     "output_type": "stream",
     "text": [
      "login_required spicinghomes\n"
     ]
    },
    {
     "name": "stderr",
     "output_type": "stream",
     "text": [
      "Status 201: JSONDecodeError in public_request (url=https://www.instagram.com/amazona12/?__a=1&__d=dis) >>> \n",
      "Status 201: JSONDecodeError in public_request (url=https://www.instagram.com/amazona12/?__a=1&__d=dis) >>> \n",
      "Status 201: JSONDecodeError in public_request (url=https://www.instagram.com/amazona12/?__a=1&__d=dis) >>> \n",
      " 68%|██████████████████████████████████████████████████████▉                          | 95/140 [17:36<07:02,  9.39s/it]"
     ]
    },
    {
     "name": "stdout",
     "output_type": "stream",
     "text": [
      "login_required amazona12\n"
     ]
    },
    {
     "name": "stderr",
     "output_type": "stream",
     "text": [
      "Status 201: JSONDecodeError in public_request (url=https://www.instagram.com/kerearchitecture/?__a=1&__d=dis) >>> \n",
      "Status 201: JSONDecodeError in public_request (url=https://www.instagram.com/kerearchitecture/?__a=1&__d=dis) >>> \n",
      "Status 201: JSONDecodeError in public_request (url=https://www.instagram.com/kerearchitecture/?__a=1&__d=dis) >>> \n",
      " 69%|███████████████████████████████████████████████████████▌                         | 96/140 [17:45<06:53,  9.40s/it]"
     ]
    },
    {
     "name": "stdout",
     "output_type": "stream",
     "text": [
      "login_required kerearchitecture\n"
     ]
    },
    {
     "name": "stderr",
     "output_type": "stream",
     "text": [
      "Status 201: JSONDecodeError in public_request (url=https://www.instagram.com/royalmabatiug/?__a=1&__d=dis) >>> \n",
      "Status 201: JSONDecodeError in public_request (url=https://www.instagram.com/royalmabatiug/?__a=1&__d=dis) >>> \n",
      "Status 201: JSONDecodeError in public_request (url=https://www.instagram.com/royalmabatiug/?__a=1&__d=dis) >>> \n",
      " 69%|████████████████████████████████████████████████████████                         | 97/140 [17:54<06:44,  9.40s/it]"
     ]
    },
    {
     "name": "stdout",
     "output_type": "stream",
     "text": [
      "login_required royalmabatiug\n"
     ]
    },
    {
     "name": "stderr",
     "output_type": "stream",
     "text": [
      "Status 201: JSONDecodeError in public_request (url=https://www.instagram.com/lengcleaningservices/?__a=1&__d=dis) >>> \n",
      "Status 201: JSONDecodeError in public_request (url=https://www.instagram.com/lengcleaningservices/?__a=1&__d=dis) >>> \n",
      "Status 201: JSONDecodeError in public_request (url=https://www.instagram.com/lengcleaningservices/?__a=1&__d=dis) >>> \n",
      " 70%|████████████████████████████████████████████████████████▋                        | 98/140 [18:04<06:34,  9.40s/it]"
     ]
    },
    {
     "name": "stdout",
     "output_type": "stream",
     "text": [
      "login_required lengcleaningservices\n"
     ]
    },
    {
     "name": "stderr",
     "output_type": "stream",
     "text": [
      "Status 201: JSONDecodeError in public_request (url=https://www.instagram.com/ugandabaati_official/?__a=1&__d=dis) >>> \n",
      "Status 201: JSONDecodeError in public_request (url=https://www.instagram.com/ugandabaati_official/?__a=1&__d=dis) >>> \n",
      "Status 201: JSONDecodeError in public_request (url=https://www.instagram.com/ugandabaati_official/?__a=1&__d=dis) >>> \n",
      " 71%|█████████████████████████████████████████████████████████▎                       | 99/140 [18:13<06:23,  9.34s/it]"
     ]
    },
    {
     "name": "stdout",
     "output_type": "stream",
     "text": [
      "login_required ugandabaati_official\n"
     ]
    },
    {
     "name": "stderr",
     "output_type": "stream",
     "text": [
      "Status 201: JSONDecodeError in public_request (url=https://www.instagram.com/bumploveug/?__a=1&__d=dis) >>> \n",
      "Status 201: JSONDecodeError in public_request (url=https://www.instagram.com/bumploveug/?__a=1&__d=dis) >>> \n",
      "Status 201: JSONDecodeError in public_request (url=https://www.instagram.com/bumploveug/?__a=1&__d=dis) >>> \n",
      " 71%|█████████████████████████████████████████████████████████▏                      | 100/140 [18:22<06:12,  9.32s/it]"
     ]
    },
    {
     "name": "stdout",
     "output_type": "stream",
     "text": [
      "login_required bumploveug\n"
     ]
    },
    {
     "name": "stderr",
     "output_type": "stream",
     "text": [
      "Status 201: JSONDecodeError in public_request (url=https://www.instagram.com/ubuntu_home_services_ltd/?__a=1&__d=dis) >>> \n",
      "Status 201: JSONDecodeError in public_request (url=https://www.instagram.com/ubuntu_home_services_ltd/?__a=1&__d=dis) >>> \n",
      "Status 201: JSONDecodeError in public_request (url=https://www.instagram.com/ubuntu_home_services_ltd/?__a=1&__d=dis) >>> \n",
      " 72%|█████████████████████████████████████████████████████████▋                      | 101/140 [18:32<06:03,  9.32s/it]"
     ]
    },
    {
     "name": "stdout",
     "output_type": "stream",
     "text": [
      "login_required ubuntu_home_services_ltd\n"
     ]
    },
    {
     "name": "stderr",
     "output_type": "stream",
     "text": [
      "Status 201: JSONDecodeError in public_request (url=https://www.instagram.com/cleanhomesuganda/?__a=1&__d=dis) >>> \n",
      "Status 201: JSONDecodeError in public_request (url=https://www.instagram.com/cleanhomesuganda/?__a=1&__d=dis) >>> \n",
      "Status 201: JSONDecodeError in public_request (url=https://www.instagram.com/cleanhomesuganda/?__a=1&__d=dis) >>> \n",
      " 73%|██████████████████████████████████████████████████████████▎                     | 102/140 [18:41<05:54,  9.32s/it]"
     ]
    },
    {
     "name": "stdout",
     "output_type": "stream",
     "text": [
      "login_required cleanhomesuganda\n"
     ]
    },
    {
     "name": "stderr",
     "output_type": "stream",
     "text": [
      "Status 201: JSONDecodeError in public_request (url=https://www.instagram.com/askmayaug/?__a=1&__d=dis) >>> \n",
      "Status 201: JSONDecodeError in public_request (url=https://www.instagram.com/askmayaug/?__a=1&__d=dis) >>> \n",
      "Status 201: JSONDecodeError in public_request (url=https://www.instagram.com/askmayaug/?__a=1&__d=dis) >>> \n",
      " 74%|██████████████████████████████████████████████████████████▊                     | 103/140 [18:50<05:45,  9.33s/it]"
     ]
    },
    {
     "name": "stdout",
     "output_type": "stream",
     "text": [
      "login_required askmayaug\n"
     ]
    },
    {
     "name": "stderr",
     "output_type": "stream",
     "text": [
      "Status 201: JSONDecodeError in public_request (url=https://www.instagram.com/kweezacleaning/?__a=1&__d=dis) >>> \n",
      "Status 201: JSONDecodeError in public_request (url=https://www.instagram.com/kweezacleaning/?__a=1&__d=dis) >>> \n",
      "Status 201: JSONDecodeError in public_request (url=https://www.instagram.com/kweezacleaning/?__a=1&__d=dis) >>> \n",
      " 74%|███████████████████████████████████████████████████████████▍                    | 104/140 [19:00<05:39,  9.43s/it]"
     ]
    },
    {
     "name": "stdout",
     "output_type": "stream",
     "text": [
      "login_required kweezacleaning\n"
     ]
    },
    {
     "name": "stderr",
     "output_type": "stream",
     "text": [
      "Status 201: JSONDecodeError in public_request (url=https://www.instagram.com/dawggoneclean/?__a=1&__d=dis) >>> \n",
      "Status 201: JSONDecodeError in public_request (url=https://www.instagram.com/dawggoneclean/?__a=1&__d=dis) >>> \n",
      "Status 201: JSONDecodeError in public_request (url=https://www.instagram.com/dawggoneclean/?__a=1&__d=dis) >>> \n",
      " 75%|████████████████████████████████████████████████████████████                    | 105/140 [19:09<05:27,  9.37s/it]"
     ]
    },
    {
     "name": "stdout",
     "output_type": "stream",
     "text": [
      "login_required dawggoneclean\n"
     ]
    },
    {
     "name": "stderr",
     "output_type": "stream",
     "text": [
      "Status 201: JSONDecodeError in public_request (url=https://www.instagram.com/limbanizwf/?__a=1&__d=dis) >>> \n",
      "Status 201: JSONDecodeError in public_request (url=https://www.instagram.com/limbanizwf/?__a=1&__d=dis) >>> \n",
      "Status 201: JSONDecodeError in public_request (url=https://www.instagram.com/limbanizwf/?__a=1&__d=dis) >>> \n",
      " 76%|████████████████████████████████████████████████████████████▌                   | 106/140 [19:19<05:19,  9.40s/it]"
     ]
    },
    {
     "name": "stdout",
     "output_type": "stream",
     "text": [
      "login_required limbanizwf\n"
     ]
    },
    {
     "name": "stderr",
     "output_type": "stream",
     "text": [
      "Status 201: JSONDecodeError in public_request (url=https://www.instagram.com/_u/?__a=1&__d=dis) >>> \n",
      "Status 201: JSONDecodeError in public_request (url=https://www.instagram.com/_u/?__a=1&__d=dis) >>> \n",
      "Status 201: JSONDecodeError in public_request (url=https://www.instagram.com/_u/?__a=1&__d=dis) >>> \n",
      " 76%|█████████████████████████████████████████████████████████████▏                  | 107/140 [19:28<05:07,  9.33s/it]"
     ]
    },
    {
     "name": "stdout",
     "output_type": "stream",
     "text": [
      "login_required _u\n"
     ]
    },
    {
     "name": "stderr",
     "output_type": "stream",
     "text": [
      "Status 201: JSONDecodeError in public_request (url=https://www.instagram.com/wvamwater/?__a=1&__d=dis) >>> \n",
      "Status 201: JSONDecodeError in public_request (url=https://www.instagram.com/wvamwater/?__a=1&__d=dis) >>> \n",
      "Status 201: JSONDecodeError in public_request (url=https://www.instagram.com/wvamwater/?__a=1&__d=dis) >>> \n",
      " 77%|█████████████████████████████████████████████████████████████▋                  | 108/140 [19:38<05:01,  9.43s/it]"
     ]
    },
    {
     "name": "stdout",
     "output_type": "stream",
     "text": [
      "login_required wvamwater\n"
     ]
    },
    {
     "name": "stderr",
     "output_type": "stream",
     "text": [
      "Status 201: JSONDecodeError in public_request (url=https://www.instagram.com/keithalbeetheater/?__a=1&__d=dis) >>> \n",
      "Status 201: JSONDecodeError in public_request (url=https://www.instagram.com/keithalbeetheater/?__a=1&__d=dis) >>> \n",
      "Status 201: JSONDecodeError in public_request (url=https://www.instagram.com/keithalbeetheater/?__a=1&__d=dis) >>> \n",
      " 78%|██████████████████████████████████████████████████████████████▎                 | 109/140 [19:47<04:50,  9.36s/it]"
     ]
    },
    {
     "name": "stdout",
     "output_type": "stream",
     "text": [
      "login_required keithalbeetheater\n"
     ]
    },
    {
     "name": "stderr",
     "output_type": "stream",
     "text": [
      "Status 201: JSONDecodeError in public_request (url=https://www.instagram.com/theplumberlorian/?__a=1&__d=dis) >>> \n",
      "Status 201: JSONDecodeError in public_request (url=https://www.instagram.com/theplumberlorian/?__a=1&__d=dis) >>> \n",
      "Status 201: JSONDecodeError in public_request (url=https://www.instagram.com/theplumberlorian/?__a=1&__d=dis) >>> \n",
      " 79%|██████████████████████████████████████████████████████████████▊                 | 110/140 [19:56<04:39,  9.31s/it]"
     ]
    },
    {
     "name": "stdout",
     "output_type": "stream",
     "text": [
      "login_required theplumberlorian\n"
     ]
    },
    {
     "name": "stderr",
     "output_type": "stream",
     "text": [
      "Status 201: JSONDecodeError in public_request (url=https://www.instagram.com/calendarconstruction_wv/?__a=1&__d=dis) >>> \n",
      "Status 201: JSONDecodeError in public_request (url=https://www.instagram.com/calendarconstruction_wv/?__a=1&__d=dis) >>> \n",
      "Status 201: JSONDecodeError in public_request (url=https://www.instagram.com/calendarconstruction_wv/?__a=1&__d=dis) >>> \n",
      " 79%|███████████████████████████████████████████████████████████████▍                | 111/140 [20:06<04:32,  9.41s/it]"
     ]
    },
    {
     "name": "stdout",
     "output_type": "stream",
     "text": [
      "login_required calendarconstruction_wv\n"
     ]
    },
    {
     "name": "stderr",
     "output_type": "stream",
     "text": [
      "Status 201: JSONDecodeError in public_request (url=https://www.instagram.com/westshorehome/?__a=1&__d=dis) >>> \n",
      "Status 201: JSONDecodeError in public_request (url=https://www.instagram.com/westshorehome/?__a=1&__d=dis) >>> \n",
      "Status 201: JSONDecodeError in public_request (url=https://www.instagram.com/westshorehome/?__a=1&__d=dis) >>> \n",
      " 80%|████████████████████████████████████████████████████████████████                | 112/140 [20:15<04:23,  9.40s/it]"
     ]
    },
    {
     "name": "stdout",
     "output_type": "stream",
     "text": [
      "login_required westshorehome\n"
     ]
    },
    {
     "name": "stderr",
     "output_type": "stream",
     "text": [
      "Status 201: JSONDecodeError in public_request (url=https://www.instagram.com/liz_modern/?__a=1&__d=dis) >>> \n",
      "Status 201: JSONDecodeError in public_request (url=https://www.instagram.com/liz_modern/?__a=1&__d=dis) >>> \n",
      "Status 201: JSONDecodeError in public_request (url=https://www.instagram.com/liz_modern/?__a=1&__d=dis) >>> \n",
      " 81%|████████████████████████████████████████████████████████████████▌               | 113/140 [20:24<04:13,  9.40s/it]"
     ]
    },
    {
     "name": "stdout",
     "output_type": "stream",
     "text": [
      "login_required liz_modern\n"
     ]
    },
    {
     "name": "stderr",
     "output_type": "stream",
     "text": [
      "Status 201: JSONDecodeError in public_request (url=https://www.instagram.com/chaplinehouse/?__a=1&__d=dis) >>> \n",
      "Status 201: JSONDecodeError in public_request (url=https://www.instagram.com/chaplinehouse/?__a=1&__d=dis) >>> \n",
      "Status 201: JSONDecodeError in public_request (url=https://www.instagram.com/chaplinehouse/?__a=1&__d=dis) >>> \n",
      " 81%|█████████████████████████████████████████████████████████████████▏              | 114/140 [20:34<04:04,  9.40s/it]"
     ]
    },
    {
     "name": "stdout",
     "output_type": "stream",
     "text": [
      "login_required chaplinehouse\n"
     ]
    },
    {
     "name": "stderr",
     "output_type": "stream",
     "text": [
      "Status 201: JSONDecodeError in public_request (url=https://www.instagram.com/eastonsawyerconstructionfirm/?__a=1&__d=dis) >>> \n",
      "Status 201: JSONDecodeError in public_request (url=https://www.instagram.com/eastonsawyerconstructionfirm/?__a=1&__d=dis) >>> \n",
      "Status 201: JSONDecodeError in public_request (url=https://www.instagram.com/eastonsawyerconstructionfirm/?__a=1&__d=dis) >>> \n",
      " 82%|█████████████████████████████████████████████████████████████████▋              | 115/140 [20:43<03:54,  9.38s/it]"
     ]
    },
    {
     "name": "stdout",
     "output_type": "stream",
     "text": [
      "login_required eastonsawyerconstructionfirm\n"
     ]
    },
    {
     "name": "stderr",
     "output_type": "stream",
     "text": [
      "Status 201: JSONDecodeError in public_request (url=https://www.instagram.com/designroofingwv/?__a=1&__d=dis) >>> \n",
      "Status 201: JSONDecodeError in public_request (url=https://www.instagram.com/designroofingwv/?__a=1&__d=dis) >>> \n",
      "Status 201: JSONDecodeError in public_request (url=https://www.instagram.com/designroofingwv/?__a=1&__d=dis) >>> \n",
      " 83%|██████████████████████████████████████████████████████████████████▎             | 116/140 [20:53<03:46,  9.44s/it]"
     ]
    },
    {
     "name": "stdout",
     "output_type": "stream",
     "text": [
      "login_required designroofingwv\n"
     ]
    },
    {
     "name": "stderr",
     "output_type": "stream",
     "text": [
      "Status 201: JSONDecodeError in public_request (url=https://www.instagram.com/kathylynnmejia/?__a=1&__d=dis) >>> \n",
      "Status 201: JSONDecodeError in public_request (url=https://www.instagram.com/kathylynnmejia/?__a=1&__d=dis) >>> \n",
      "Status 201: JSONDecodeError in public_request (url=https://www.instagram.com/kathylynnmejia/?__a=1&__d=dis) >>> \n",
      " 84%|██████████████████████████████████████████████████████████████████▊             | 117/140 [21:02<03:35,  9.37s/it]"
     ]
    },
    {
     "name": "stdout",
     "output_type": "stream",
     "text": [
      "login_required kathylynnmejia\n"
     ]
    },
    {
     "name": "stderr",
     "output_type": "stream",
     "text": [
      "Status 201: JSONDecodeError in public_request (url=https://www.instagram.com/rooferscoffeeshop/?__a=1&__d=dis) >>> \n",
      "Status 201: JSONDecodeError in public_request (url=https://www.instagram.com/rooferscoffeeshop/?__a=1&__d=dis) >>> \n",
      "Status 201: JSONDecodeError in public_request (url=https://www.instagram.com/rooferscoffeeshop/?__a=1&__d=dis) >>> \n",
      " 84%|███████████████████████████████████████████████████████████████████▍            | 118/140 [21:11<03:25,  9.34s/it]"
     ]
    },
    {
     "name": "stdout",
     "output_type": "stream",
     "text": [
      "login_required rooferscoffeeshop\n"
     ]
    },
    {
     "name": "stderr",
     "output_type": "stream",
     "text": [
      "Status 201: JSONDecodeError in public_request (url=https://www.instagram.com/loracurrent/?__a=1&__d=dis) >>> \n",
      "Status 201: JSONDecodeError in public_request (url=https://www.instagram.com/loracurrent/?__a=1&__d=dis) >>> \n",
      "Status 201: JSONDecodeError in public_request (url=https://www.instagram.com/loracurrent/?__a=1&__d=dis) >>> \n",
      " 85%|████████████████████████████████████████████████████████████████████            | 119/140 [21:20<03:15,  9.33s/it]"
     ]
    },
    {
     "name": "stdout",
     "output_type": "stream",
     "text": [
      "login_required loracurrent\n"
     ]
    },
    {
     "name": "stderr",
     "output_type": "stream",
     "text": [
      "Status 201: JSONDecodeError in public_request (url=https://www.instagram.com/betsysweeny/?__a=1&__d=dis) >>> \n",
      "Status 201: JSONDecodeError in public_request (url=https://www.instagram.com/betsysweeny/?__a=1&__d=dis) >>> \n",
      "Status 201: JSONDecodeError in public_request (url=https://www.instagram.com/betsysweeny/?__a=1&__d=dis) >>> \n",
      " 86%|████████████████████████████████████████████████████████████████████▌           | 120/140 [21:30<03:06,  9.31s/it]"
     ]
    },
    {
     "name": "stdout",
     "output_type": "stream",
     "text": [
      "login_required betsysweeny\n"
     ]
    },
    {
     "name": "stderr",
     "output_type": "stream",
     "text": [
      "Status 201: JSONDecodeError in public_request (url=https://www.instagram.com/msr_wv/?__a=1&__d=dis) >>> \n",
      "Status 201: JSONDecodeError in public_request (url=https://www.instagram.com/msr_wv/?__a=1&__d=dis) >>> \n",
      "Status 201: JSONDecodeError in public_request (url=https://www.instagram.com/msr_wv/?__a=1&__d=dis) >>> \n",
      " 86%|█████████████████████████████████████████████████████████████████████▏          | 121/140 [21:39<02:57,  9.34s/it]"
     ]
    },
    {
     "name": "stdout",
     "output_type": "stream",
     "text": [
      "login_required msr_wv\n"
     ]
    },
    {
     "name": "stderr",
     "output_type": "stream",
     "text": [
      "Status 201: JSONDecodeError in public_request (url=https://www.instagram.com/sarahirvinphotography/?__a=1&__d=dis) >>> \n",
      "Status 201: JSONDecodeError in public_request (url=https://www.instagram.com/sarahirvinphotography/?__a=1&__d=dis) >>> \n",
      "Status 201: JSONDecodeError in public_request (url=https://www.instagram.com/sarahirvinphotography/?__a=1&__d=dis) >>> \n",
      " 87%|█████████████████████████████████████████████████████████████████████▋          | 122/140 [21:48<02:47,  9.32s/it]"
     ]
    },
    {
     "name": "stdout",
     "output_type": "stream",
     "text": [
      "login_required sarahirvinphotography\n"
     ]
    },
    {
     "name": "stderr",
     "output_type": "stream",
     "text": [
      "Status 201: JSONDecodeError in public_request (url=https://www.instagram.com/missamericawv/?__a=1&__d=dis) >>> \n",
      "Status 201: JSONDecodeError in public_request (url=https://www.instagram.com/missamericawv/?__a=1&__d=dis) >>> \n",
      "Status 201: JSONDecodeError in public_request (url=https://www.instagram.com/missamericawv/?__a=1&__d=dis) >>> \n",
      " 88%|██████████████████████████████████████████████████████████████████████▎         | 123/140 [21:58<02:39,  9.37s/it]"
     ]
    },
    {
     "name": "stdout",
     "output_type": "stream",
     "text": [
      "login_required missamericawv\n"
     ]
    },
    {
     "name": "stderr",
     "output_type": "stream",
     "text": [
      "Status 201: JSONDecodeError in public_request (url=https://www.instagram.com/eclecticevelyn/?__a=1&__d=dis) >>> \n",
      "Status 201: JSONDecodeError in public_request (url=https://www.instagram.com/eclecticevelyn/?__a=1&__d=dis) >>> \n",
      "Status 201: JSONDecodeError in public_request (url=https://www.instagram.com/eclecticevelyn/?__a=1&__d=dis) >>> \n",
      " 89%|██████████████████████████████████████████████████████████████████████▊         | 124/140 [22:07<02:30,  9.38s/it]"
     ]
    },
    {
     "name": "stdout",
     "output_type": "stream",
     "text": [
      "login_required eclecticevelyn\n"
     ]
    },
    {
     "name": "stderr",
     "output_type": "stream",
     "text": [
      "Status 201: JSONDecodeError in public_request (url=https://www.instagram.com/rosemaryketchum/?__a=1&__d=dis) >>> \n",
      "Status 201: JSONDecodeError in public_request (url=https://www.instagram.com/rosemaryketchum/?__a=1&__d=dis) >>> \n",
      "Status 201: JSONDecodeError in public_request (url=https://www.instagram.com/rosemaryketchum/?__a=1&__d=dis) >>> \n",
      " 89%|███████████████████████████████████████████████████████████████████████▍        | 125/140 [22:17<02:20,  9.36s/it]"
     ]
    },
    {
     "name": "stdout",
     "output_type": "stream",
     "text": [
      "login_required rosemaryketchum\n"
     ]
    },
    {
     "name": "stderr",
     "output_type": "stream",
     "text": [
      "Status 201: JSONDecodeError in public_request (url=https://www.instagram.com/chefdavewhite/?__a=1&__d=dis) >>> \n",
      "Status 201: JSONDecodeError in public_request (url=https://www.instagram.com/chefdavewhite/?__a=1&__d=dis) >>> \n",
      "Status 201: JSONDecodeError in public_request (url=https://www.instagram.com/chefdavewhite/?__a=1&__d=dis) >>> \n",
      " 90%|████████████████████████████████████████████████████████████████████████        | 126/140 [22:26<02:10,  9.33s/it]"
     ]
    },
    {
     "name": "stdout",
     "output_type": "stream",
     "text": [
      "login_required chefdavewhite\n"
     ]
    },
    {
     "name": "stderr",
     "output_type": "stream",
     "text": [
      "Status 201: JSONDecodeError in public_request (url=https://www.instagram.com/tandtplumbingllc/?__a=1&__d=dis) >>> \n",
      "Status 201: JSONDecodeError in public_request (url=https://www.instagram.com/tandtplumbingllc/?__a=1&__d=dis) >>> \n",
      "Status 201: JSONDecodeError in public_request (url=https://www.instagram.com/tandtplumbingllc/?__a=1&__d=dis) >>> \n",
      " 91%|████████████████████████████████████████████████████████████████████████▌       | 127/140 [22:35<02:01,  9.33s/it]"
     ]
    },
    {
     "name": "stdout",
     "output_type": "stream",
     "text": [
      "login_required tandtplumbingllc\n"
     ]
    },
    {
     "name": "stderr",
     "output_type": "stream",
     "text": [
      "Status 201: JSONDecodeError in public_request (url=https://www.instagram.com/legacyconstructionms/?__a=1&__d=dis) >>> \n",
      "Status 201: JSONDecodeError in public_request (url=https://www.instagram.com/legacyconstructionms/?__a=1&__d=dis) >>> \n",
      "Status 201: JSONDecodeError in public_request (url=https://www.instagram.com/legacyconstructionms/?__a=1&__d=dis) >>> \n",
      " 91%|█████████████████████████████████████████████████████████████████████████▏      | 128/140 [22:45<01:52,  9.37s/it]"
     ]
    },
    {
     "name": "stdout",
     "output_type": "stream",
     "text": [
      "login_required legacyconstructionms\n"
     ]
    },
    {
     "name": "stderr",
     "output_type": "stream",
     "text": [
      "Status 201: JSONDecodeError in public_request (url=https://www.instagram.com/florencerevival/?__a=1&__d=dis) >>> \n",
      "Status 201: JSONDecodeError in public_request (url=https://www.instagram.com/florencerevival/?__a=1&__d=dis) >>> \n",
      "Status 201: JSONDecodeError in public_request (url=https://www.instagram.com/florencerevival/?__a=1&__d=dis) >>> \n",
      " 92%|█████████████████████████████████████████████████████████████████████████▋      | 129/140 [22:54<01:43,  9.38s/it]"
     ]
    },
    {
     "name": "stdout",
     "output_type": "stream",
     "text": [
      "login_required florencerevival\n"
     ]
    },
    {
     "name": "stderr",
     "output_type": "stream",
     "text": [
      "Status 201: JSONDecodeError in public_request (url=https://www.instagram.com/mississippi_kween/?__a=1&__d=dis) >>> \n",
      "Status 201: JSONDecodeError in public_request (url=https://www.instagram.com/mississippi_kween/?__a=1&__d=dis) >>> \n",
      "Status 201: JSONDecodeError in public_request (url=https://www.instagram.com/mississippi_kween/?__a=1&__d=dis) >>> \n",
      " 93%|██████████████████████████████████████████████████████████████████████████▎     | 130/140 [23:03<01:33,  9.36s/it]"
     ]
    },
    {
     "name": "stdout",
     "output_type": "stream",
     "text": [
      "login_required mississippi_kween\n"
     ]
    },
    {
     "name": "stderr",
     "output_type": "stream",
     "text": [
      "Status 201: JSONDecodeError in public_request (url=https://www.instagram.com/dunawayglass/?__a=1&__d=dis) >>> \n",
      "Status 201: JSONDecodeError in public_request (url=https://www.instagram.com/dunawayglass/?__a=1&__d=dis) >>> \n",
      "Status 201: JSONDecodeError in public_request (url=https://www.instagram.com/dunawayglass/?__a=1&__d=dis) >>> \n",
      " 94%|██████████████████████████████████████████████████████████████████████████▊     | 131/140 [23:13<01:24,  9.36s/it]"
     ]
    },
    {
     "name": "stdout",
     "output_type": "stream",
     "text": [
      "login_required dunawayglass\n"
     ]
    },
    {
     "name": "stderr",
     "output_type": "stream",
     "text": [
      "Status 201: JSONDecodeError in public_request (url=https://www.instagram.com/apexbuildersllc/?__a=1&__d=dis) >>> \n",
      "Status 201: JSONDecodeError in public_request (url=https://www.instagram.com/apexbuildersllc/?__a=1&__d=dis) >>> \n",
      "Status 201: JSONDecodeError in public_request (url=https://www.instagram.com/apexbuildersllc/?__a=1&__d=dis) >>> \n",
      " 94%|███████████████████████████████████████████████████████████████████████████▍    | 132/140 [23:22<01:14,  9.36s/it]"
     ]
    },
    {
     "name": "stdout",
     "output_type": "stream",
     "text": [
      "login_required apexbuildersllc\n"
     ]
    },
    {
     "name": "stderr",
     "output_type": "stream",
     "text": [
      "Status 201: JSONDecodeError in public_request (url=https://www.instagram.com/norman_construction/?__a=1&__d=dis) >>> \n",
      "Status 201: JSONDecodeError in public_request (url=https://www.instagram.com/norman_construction/?__a=1&__d=dis) >>> \n",
      "Status 201: JSONDecodeError in public_request (url=https://www.instagram.com/norman_construction/?__a=1&__d=dis) >>> \n",
      " 95%|████████████████████████████████████████████████████████████████████████████    | 133/140 [23:31<01:05,  9.31s/it]"
     ]
    },
    {
     "name": "stdout",
     "output_type": "stream",
     "text": [
      "login_required norman_construction\n"
     ]
    },
    {
     "name": "stderr",
     "output_type": "stream",
     "text": [
      "Status 201: JSONDecodeError in public_request (url=https://www.instagram.com/watkinsroofing/?__a=1&__d=dis) >>> \n",
      "Status 201: JSONDecodeError in public_request (url=https://www.instagram.com/watkinsroofing/?__a=1&__d=dis) >>> \n",
      "Status 201: JSONDecodeError in public_request (url=https://www.instagram.com/watkinsroofing/?__a=1&__d=dis) >>> \n",
      " 96%|████████████████████████████████████████████████████████████████████████████▌   | 134/140 [23:40<00:55,  9.27s/it]"
     ]
    },
    {
     "name": "stdout",
     "output_type": "stream",
     "text": [
      "login_required watkinsroofing\n"
     ]
    },
    {
     "name": "stderr",
     "output_type": "stream",
     "text": [
      "Status 201: JSONDecodeError in public_request (url=https://www.instagram.com/msroofgarden/?__a=1&__d=dis) >>> \n",
      "Status 201: JSONDecodeError in public_request (url=https://www.instagram.com/msroofgarden/?__a=1&__d=dis) >>> \n",
      "Status 201: JSONDecodeError in public_request (url=https://www.instagram.com/msroofgarden/?__a=1&__d=dis) >>> \n",
      " 96%|█████████████████████████████████████████████████████████████████████████████▏  | 135/140 [23:51<00:47,  9.51s/it]"
     ]
    },
    {
     "name": "stdout",
     "output_type": "stream",
     "text": [
      "login_required msroofgarden\n"
     ]
    },
    {
     "name": "stderr",
     "output_type": "stream",
     "text": [
      "Status 201: JSONDecodeError in public_request (url=https://www.instagram.com/ecmaloneroofingservices/?__a=1&__d=dis) >>> \n",
      "Status 201: JSONDecodeError in public_request (url=https://www.instagram.com/ecmaloneroofingservices/?__a=1&__d=dis) >>> \n",
      "Status 201: JSONDecodeError in public_request (url=https://www.instagram.com/ecmaloneroofingservices/?__a=1&__d=dis) >>> \n",
      " 97%|█████████████████████████████████████████████████████████████████████████████▋  | 136/140 [24:00<00:37,  9.44s/it]"
     ]
    },
    {
     "name": "stdout",
     "output_type": "stream",
     "text": [
      "login_required ecmaloneroofingservices\n"
     ]
    },
    {
     "name": "stderr",
     "output_type": "stream",
     "text": [
      "Status 201: JSONDecodeError in public_request (url=https://www.instagram.com/mssparklingcleaningservices/?__a=1&__d=dis) >>> \n",
      "Status 201: JSONDecodeError in public_request (url=https://www.instagram.com/mssparklingcleaningservices/?__a=1&__d=dis) >>> \n",
      "Status 201: JSONDecodeError in public_request (url=https://www.instagram.com/mssparklingcleaningservices/?__a=1&__d=dis) >>> \n",
      " 98%|██████████████████████████████████████████████████████████████████████████████▎ | 137/140 [24:09<00:28,  9.39s/it]"
     ]
    },
    {
     "name": "stdout",
     "output_type": "stream",
     "text": [
      "login_required mssparklingcleaningservices\n"
     ]
    },
    {
     "name": "stderr",
     "output_type": "stream",
     "text": [
      "Status 201: JSONDecodeError in public_request (url=https://www.instagram.com/legendarypresencecleaningllc/?__a=1&__d=dis) >>> \n",
      "Status 201: JSONDecodeError in public_request (url=https://www.instagram.com/legendarypresencecleaningllc/?__a=1&__d=dis) >>> \n",
      "Status 201: JSONDecodeError in public_request (url=https://www.instagram.com/legendarypresencecleaningllc/?__a=1&__d=dis) >>> \n",
      " 99%|██████████████████████████████████████████████████████████████████████████████▊ | 138/140 [24:18<00:18,  9.37s/it]"
     ]
    },
    {
     "name": "stdout",
     "output_type": "stream",
     "text": [
      "login_required legendarypresencecleaningllc\n"
     ]
    },
    {
     "name": "stderr",
     "output_type": "stream",
     "text": [
      "Status 201: JSONDecodeError in public_request (url=https://www.instagram.com/iamdjkoollaid/?__a=1&__d=dis) >>> \n",
      "Status 201: JSONDecodeError in public_request (url=https://www.instagram.com/iamdjkoollaid/?__a=1&__d=dis) >>> \n",
      "Status 201: JSONDecodeError in public_request (url=https://www.instagram.com/iamdjkoollaid/?__a=1&__d=dis) >>> \n",
      " 99%|███████████████████████████████████████████████████████████████████████████████▍| 139/140 [24:28<00:09,  9.33s/it]"
     ]
    },
    {
     "name": "stdout",
     "output_type": "stream",
     "text": [
      "login_required iamdjkoollaid\n"
     ]
    },
    {
     "name": "stderr",
     "output_type": "stream",
     "text": [
      "Status 201: JSONDecodeError in public_request (url=https://www.instagram.com/coty_travis/?__a=1&__d=dis) >>> \n",
      "Status 201: JSONDecodeError in public_request (url=https://www.instagram.com/coty_travis/?__a=1&__d=dis) >>> \n",
      "Status 201: JSONDecodeError in public_request (url=https://www.instagram.com/coty_travis/?__a=1&__d=dis) >>> \n",
      "100%|████████████████████████████████████████████████████████████████████████████████| 140/140 [24:37<00:00, 10.55s/it]"
     ]
    },
    {
     "name": "stdout",
     "output_type": "stream",
     "text": [
      "login_required coty_travis\n"
     ]
    },
    {
     "name": "stderr",
     "output_type": "stream",
     "text": [
      "\n"
     ]
    }
   ],
   "source": [
    "for handle in tqdm(handles):\n",
    "    try:\n",
    "        user = client.user_info_by_username(handle)\n",
    "        followers = user.follower_count\n",
    "        df.loc[df['handle'] == handle, 'followers'] = followers\n",
    "    except Exception as e:\n",
    "        df.loc[df['handle'] == handle, 'followers'] = e\n",
    "        print(e,handle)"
   ]
  },
  {
   "cell_type": "code",
   "execution_count": 8,
   "id": "103a5400",
   "metadata": {},
   "outputs": [
    {
     "data": {
      "text/html": [
       "<div>\n",
       "<style scoped>\n",
       "    .dataframe tbody tr th:only-of-type {\n",
       "        vertical-align: middle;\n",
       "    }\n",
       "\n",
       "    .dataframe tbody tr th {\n",
       "        vertical-align: top;\n",
       "    }\n",
       "\n",
       "    .dataframe thead th {\n",
       "        text-align: right;\n",
       "    }\n",
       "</style>\n",
       "<table border=\"1\" class=\"dataframe\">\n",
       "  <thead>\n",
       "    <tr style=\"text-align: right;\">\n",
       "      <th></th>\n",
       "      <th>business_name</th>\n",
       "      <th>business_url</th>\n",
       "      <th>business_desc</th>\n",
       "      <th>handle</th>\n",
       "      <th>followers</th>\n",
       "    </tr>\n",
       "  </thead>\n",
       "  <tbody>\n",
       "    <tr>\n",
       "      <th>0</th>\n",
       "      <td>Rob jr. Precision Plumbing &amp; drains (@precisio...</td>\n",
       "      <td>https://www.instagram.com/precision.plumbing.a...</td>\n",
       "      <td>16K Followers, 1311 Following, 556 Posts - Rob...</td>\n",
       "      <td>precision.plumbing.and.drains</td>\n",
       "      <td>16089</td>\n",
       "    </tr>\n",
       "    <tr>\n",
       "      <th>1</th>\n",
       "      <td>Redeemed Plumbing Repair LLC (@redeemed_plumbi...</td>\n",
       "      <td>https://www.instagram.com/redeemed_plumbing/</td>\n",
       "      <td>Local plumber servicing Denham/Baton Rouge are...</td>\n",
       "      <td>redeemed_plumbing</td>\n",
       "      <td>User not found</td>\n",
       "    </tr>\n",
       "    <tr>\n",
       "      <th>2</th>\n",
       "      <td>Emergency Plumbing Heating Air (@emergencyplum...</td>\n",
       "      <td>https://www.instagram.com/emergencyplumbingser...</td>\n",
       "      <td>1436 Followers, 2969 Following, 2425 Posts - E...</td>\n",
       "      <td>emergencyplumbingservice</td>\n",
       "      <td>1436</td>\n",
       "    </tr>\n",
       "    <tr>\n",
       "      <th>3</th>\n",
       "      <td>Torres Commercial Plumbing (@tplumbing19) • In...</td>\n",
       "      <td>https://www.instagram.com/tplumbing19/</td>\n",
       "      <td>178 Followers, 109 Following, 93 Posts - Torre...</td>\n",
       "      <td>tplumbing19</td>\n",
       "      <td>181</td>\n",
       "    </tr>\n",
       "    <tr>\n",
       "      <th>4</th>\n",
       "      <td>Alison • DIY Home Renovation &amp; Interiors (@awi...</td>\n",
       "      <td>https://www.instagram.com/awirralaway/</td>\n",
       "      <td>21K Followers, 1563 Following, 242 Posts - Ali...</td>\n",
       "      <td>awirralaway</td>\n",
       "      <td>21343</td>\n",
       "    </tr>\n",
       "    <tr>\n",
       "      <th>...</th>\n",
       "      <td>...</td>\n",
       "      <td>...</td>\n",
       "      <td>...</td>\n",
       "      <td>...</td>\n",
       "      <td>...</td>\n",
       "    </tr>\n",
       "    <tr>\n",
       "      <th>135</th>\n",
       "      <td>EC Malone Roofing (@ecmaloneroofingservices) •...</td>\n",
       "      <td>https://www.instagram.com/ecmaloneroofingservi...</td>\n",
       "      <td>... Commercial &amp; Residential Roofing Expert 🛠️...</td>\n",
       "      <td>ecmaloneroofingservices</td>\n",
       "      <td>login_required</td>\n",
       "    </tr>\n",
       "    <tr>\n",
       "      <th>136</th>\n",
       "      <td>MS SPARKLING CLEANING SERVICES ...</td>\n",
       "      <td>https://www.instagram.com/mssparklingcleanings...</td>\n",
       "      <td>Cleaning Service. Brisbane + Surrounds 100% Na...</td>\n",
       "      <td>mssparklingcleaningservices</td>\n",
       "      <td>login_required</td>\n",
       "    </tr>\n",
       "    <tr>\n",
       "      <th>137</th>\n",
       "      <td>Legendary Presence Cleaning Service LLC ...</td>\n",
       "      <td>https://www.instagram.com/legendarypresencecle...</td>\n",
       "      <td>Janitorial Services,Commercial Cleaning,Carpet...</td>\n",
       "      <td>legendarypresencecleaningllc</td>\n",
       "      <td>login_required</td>\n",
       "    </tr>\n",
       "    <tr>\n",
       "      <th>138</th>\n",
       "      <td>WRBJ (@iamdjkoollaid) • Instagram photos and v...</td>\n",
       "      <td>https://www.instagram.com/iamdjkoollaid/</td>\n",
       "      <td>#pressure #pressurewashing #powerwashing Jacks...</td>\n",
       "      <td>iamdjkoollaid</td>\n",
       "      <td>login_required</td>\n",
       "    </tr>\n",
       "    <tr>\n",
       "      <th>139</th>\n",
       "      <td>Coty Travis (@coty_travis) • Instagram photos ...</td>\n",
       "      <td>https://www.instagram.com/coty_travis/</td>\n",
       "      <td>Call us Middle Tennessee! Middle Tennessee 24....</td>\n",
       "      <td>coty_travis</td>\n",
       "      <td>login_required</td>\n",
       "    </tr>\n",
       "  </tbody>\n",
       "</table>\n",
       "<p>140 rows × 5 columns</p>\n",
       "</div>"
      ],
      "text/plain": [
       "                                         business_name  \\\n",
       "0    Rob jr. Precision Plumbing & drains (@precisio...   \n",
       "1    Redeemed Plumbing Repair LLC (@redeemed_plumbi...   \n",
       "2    Emergency Plumbing Heating Air (@emergencyplum...   \n",
       "3    Torres Commercial Plumbing (@tplumbing19) • In...   \n",
       "4    Alison • DIY Home Renovation & Interiors (@awi...   \n",
       "..                                                 ...   \n",
       "135  EC Malone Roofing (@ecmaloneroofingservices) •...   \n",
       "136                 MS SPARKLING CLEANING SERVICES ...   \n",
       "137        Legendary Presence Cleaning Service LLC ...   \n",
       "138  WRBJ (@iamdjkoollaid) • Instagram photos and v...   \n",
       "139  Coty Travis (@coty_travis) • Instagram photos ...   \n",
       "\n",
       "                                          business_url  \\\n",
       "0    https://www.instagram.com/precision.plumbing.a...   \n",
       "1         https://www.instagram.com/redeemed_plumbing/   \n",
       "2    https://www.instagram.com/emergencyplumbingser...   \n",
       "3               https://www.instagram.com/tplumbing19/   \n",
       "4               https://www.instagram.com/awirralaway/   \n",
       "..                                                 ...   \n",
       "135  https://www.instagram.com/ecmaloneroofingservi...   \n",
       "136  https://www.instagram.com/mssparklingcleanings...   \n",
       "137  https://www.instagram.com/legendarypresencecle...   \n",
       "138           https://www.instagram.com/iamdjkoollaid/   \n",
       "139             https://www.instagram.com/coty_travis/   \n",
       "\n",
       "                                         business_desc  \\\n",
       "0    16K Followers, 1311 Following, 556 Posts - Rob...   \n",
       "1    Local plumber servicing Denham/Baton Rouge are...   \n",
       "2    1436 Followers, 2969 Following, 2425 Posts - E...   \n",
       "3    178 Followers, 109 Following, 93 Posts - Torre...   \n",
       "4    21K Followers, 1563 Following, 242 Posts - Ali...   \n",
       "..                                                 ...   \n",
       "135  ... Commercial & Residential Roofing Expert 🛠️...   \n",
       "136  Cleaning Service. Brisbane + Surrounds 100% Na...   \n",
       "137  Janitorial Services,Commercial Cleaning,Carpet...   \n",
       "138  #pressure #pressurewashing #powerwashing Jacks...   \n",
       "139  Call us Middle Tennessee! Middle Tennessee 24....   \n",
       "\n",
       "                            handle       followers  \n",
       "0    precision.plumbing.and.drains           16089  \n",
       "1                redeemed_plumbing  User not found  \n",
       "2         emergencyplumbingservice            1436  \n",
       "3                      tplumbing19             181  \n",
       "4                      awirralaway           21343  \n",
       "..                             ...             ...  \n",
       "135        ecmaloneroofingservices  login_required  \n",
       "136    mssparklingcleaningservices  login_required  \n",
       "137   legendarypresencecleaningllc  login_required  \n",
       "138                  iamdjkoollaid  login_required  \n",
       "139                    coty_travis  login_required  \n",
       "\n",
       "[140 rows x 5 columns]"
      ]
     },
     "execution_count": 8,
     "metadata": {},
     "output_type": "execute_result"
    }
   ],
   "source": [
    "df"
   ]
  },
  {
   "cell_type": "code",
   "execution_count": null,
   "id": "a0622302",
   "metadata": {},
   "outputs": [],
   "source": []
  }
 ],
 "metadata": {
  "kernelspec": {
   "display_name": "Python 3 (ipykernel)",
   "language": "python",
   "name": "python3"
  },
  "language_info": {
   "codemirror_mode": {
    "name": "ipython",
    "version": 3
   },
   "file_extension": ".py",
   "mimetype": "text/x-python",
   "name": "python",
   "nbconvert_exporter": "python",
   "pygments_lexer": "ipython3",
   "version": "3.11.5"
  }
 },
 "nbformat": 4,
 "nbformat_minor": 5
}
