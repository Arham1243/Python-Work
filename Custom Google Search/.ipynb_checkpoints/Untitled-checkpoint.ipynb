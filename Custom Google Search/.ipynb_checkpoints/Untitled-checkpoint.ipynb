{
 "cells": [
  {
   "cell_type": "code",
   "execution_count": 1,
   "id": "1e82570f",
   "metadata": {},
   "outputs": [],
   "source": [
    "import pandas as pd"
   ]
  },
  {
   "cell_type": "code",
   "execution_count": 2,
   "id": "604f2613",
   "metadata": {},
   "outputs": [],
   "source": [
    "df = pd.read_excel(\"others\\instagram_accounts-1.xlsx\")\n",
    "df_b = pd.read_excel(\"others\\instagram_accounts-2.xlsx\")"
   ]
  },
  {
   "cell_type": "code",
   "execution_count": 3,
   "id": "156dca11",
   "metadata": {},
   "outputs": [],
   "source": [
    "df_a['handle'] = None\n",
    "df_b['handle'] = None"
   ]
  },
  {
   "cell_type": "code",
   "execution_count": 4,
   "id": "2032e8d7",
   "metadata": {},
   "outputs": [],
   "source": [
    "def make_handle(url):\n",
    "    return url.split(\"https://www.instagram.com/\")[1].split(\"/\")[0]"
   ]
  },
  {
   "cell_type": "code",
   "execution_count": 5,
   "id": "cc3361b8",
   "metadata": {},
   "outputs": [],
   "source": [
    "df_a['handle'] = df_a['business_url'].apply(make_handle)\n",
    "df_b['handle'] = df_b['business_url'].apply(make_handle)"
   ]
  },
  {
   "cell_type": "code",
   "execution_count": 6,
   "id": "68f805f4",
   "metadata": {},
   "outputs": [],
   "source": [
    "handle_lens = df_a['handle'].str.len()\n",
    "handle_lens = df_b['handle'].str.len()\n",
    "\n",
    "df_a = df_a[(handle_lens != 1) & (handle_lens != 4)]\n",
    "df_b = df_b[(handle_lens != 1) & (handle_lens != 4)]"
   ]
  },
  {
   "cell_type": "code",
   "execution_count": 7,
   "id": "06f1f4f2",
   "metadata": {},
   "outputs": [],
   "source": [
    "df_a = df_a.drop_duplicates(subset=['handle'], keep='first')\n",
    "df_b = df_b.drop_duplicates(subset=['handle'], keep='first')\n"
   ]
  },
  {
   "cell_type": "code",
   "execution_count": 8,
   "id": "2766a070",
   "metadata": {},
   "outputs": [],
   "source": [
    "dfs = [df_a, df_b]\n",
    "df = pd.concat(dfs, ignore_index=True)"
   ]
  },
  {
   "cell_type": "code",
   "execution_count": 9,
   "id": "32aaabef",
   "metadata": {},
   "outputs": [
    {
     "data": {
      "text/plain": [
       "0"
      ]
     },
     "execution_count": 9,
     "metadata": {},
     "output_type": "execute_result"
    }
   ],
   "source": [
    "df.duplicated(subset=['handle']).sum()"
   ]
  },
  {
   "cell_type": "code",
   "execution_count": 10,
   "id": "71a7ca76",
   "metadata": {},
   "outputs": [],
   "source": [
    "df = df.drop_duplicates(subset=['handle'], keep='first')"
   ]
  },
  {
   "cell_type": "code",
   "execution_count": 11,
   "id": "405c84a2",
   "metadata": {},
   "outputs": [
    {
     "data": {
      "text/plain": [
       "0"
      ]
     },
     "execution_count": 11,
     "metadata": {},
     "output_type": "execute_result"
    }
   ],
   "source": [
    "df.duplicated(subset=['handle']).sum()"
   ]
  },
  {
   "cell_type": "code",
   "execution_count": 12,
   "id": "ae5c5c84",
   "metadata": {},
   "outputs": [
    {
     "data": {
      "text/plain": [
       "1"
      ]
     },
     "execution_count": 12,
     "metadata": {},
     "output_type": "execute_result"
    }
   ],
   "source": [
    "handle_lengths = df['handle'].str.len()\n",
    "handle_lengths.min()"
   ]
  },
  {
   "cell_type": "code",
   "execution_count": 13,
   "id": "3e113284",
   "metadata": {},
   "outputs": [
    {
     "data": {
      "text/html": [
       "<div>\n",
       "<style scoped>\n",
       "    .dataframe tbody tr th:only-of-type {\n",
       "        vertical-align: middle;\n",
       "    }\n",
       "\n",
       "    .dataframe tbody tr th {\n",
       "        vertical-align: top;\n",
       "    }\n",
       "\n",
       "    .dataframe thead th {\n",
       "        text-align: right;\n",
       "    }\n",
       "</style>\n",
       "<table border=\"1\" class=\"dataframe\">\n",
       "  <thead>\n",
       "    <tr style=\"text-align: right;\">\n",
       "      <th></th>\n",
       "      <th>business_name</th>\n",
       "      <th>business_url</th>\n",
       "      <th>business_desc</th>\n",
       "      <th>handle</th>\n",
       "    </tr>\n",
       "  </thead>\n",
       "  <tbody>\n",
       "    <tr>\n",
       "      <th>11</th>\n",
       "      <td>INDONESIA DESIGN | Bended Roof House - #iDArch...</td>\n",
       "      <td>https://www.instagram.com/p/CzSomQwPt2M/</td>\n",
       "      <td>Nov 5, 2023 ... 345 likes, 1 comments - indone...</td>\n",
       "      <td>p</td>\n",
       "    </tr>\n",
       "  </tbody>\n",
       "</table>\n",
       "</div>"
      ],
      "text/plain": [
       "                                        business_name  \\\n",
       "11  INDONESIA DESIGN | Bended Roof House - #iDArch...   \n",
       "\n",
       "                                business_url  \\\n",
       "11  https://www.instagram.com/p/CzSomQwPt2M/   \n",
       "\n",
       "                                        business_desc handle  \n",
       "11  Nov 5, 2023 ... 345 likes, 1 comments - indone...      p  "
      ]
     },
     "execution_count": 13,
     "metadata": {},
     "output_type": "execute_result"
    }
   ],
   "source": [
    "df[handle_lengths == 1]"
   ]
  },
  {
   "cell_type": "code",
   "execution_count": 14,
   "id": "bc40890a",
   "metadata": {},
   "outputs": [],
   "source": [
    "df = df[(handle_lengths != 1) & (handle_lengths != 4)]"
   ]
  },
  {
   "cell_type": "code",
   "execution_count": 15,
   "id": "7dd97c1f",
   "metadata": {},
   "outputs": [
    {
     "data": {
      "text/plain": [
       "(140, 4)"
      ]
     },
     "execution_count": 15,
     "metadata": {},
     "output_type": "execute_result"
    }
   ],
   "source": [
    "df.shape"
   ]
  },
  {
   "cell_type": "code",
   "execution_count": 16,
   "id": "ebcaa4e9",
   "metadata": {},
   "outputs": [],
   "source": [
    "df.to_excel(\"others_accounts.xlsx\",index=False)"
   ]
  },
  {
   "cell_type": "code",
   "execution_count": null,
   "id": "4a44c96e",
   "metadata": {},
   "outputs": [],
   "source": []
  }
 ],
 "metadata": {
  "kernelspec": {
   "display_name": "Python 3 (ipykernel)",
   "language": "python",
   "name": "python3"
  },
  "language_info": {
   "codemirror_mode": {
    "name": "ipython",
    "version": 3
   },
   "file_extension": ".py",
   "mimetype": "text/x-python",
   "name": "python",
   "nbconvert_exporter": "python",
   "pygments_lexer": "ipython3",
   "version": "3.11.5"
  }
 },
 "nbformat": 4,
 "nbformat_minor": 5
}
