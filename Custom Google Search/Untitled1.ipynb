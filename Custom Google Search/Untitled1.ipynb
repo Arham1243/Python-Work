{
 "cells": [
  {
   "cell_type": "code",
   "execution_count": 1,
   "id": "0eac6730",
   "metadata": {},
   "outputs": [
    {
     "name": "stderr",
     "output_type": "stream",
     "text": [
      "Status 201: JSONDecodeError in public_request (url=https://www.instagram.com/arham.khan_18/?__a=1&__d=dis) >>> \n",
      "Status 201: JSONDecodeError in public_request (url=https://www.instagram.com/arham.khan_18/?__a=1&__d=dis) >>> \n",
      "Status 201: JSONDecodeError in public_request (url=https://www.instagram.com/arham.khan_18/?__a=1&__d=dis) >>> \n",
      "Status 201: JSONDecodeError in public_request (url=https://www.instagram.com/ashnakhn_14/?__a=1&__d=dis) >>> \n",
      "Status 201: JSONDecodeError in public_request (url=https://www.instagram.com/ashnakhn_14/?__a=1&__d=dis) >>> \n",
      "Status 201: JSONDecodeError in public_request (url=https://www.instagram.com/ashnakhn_14/?__a=1&__d=dis) >>> \n"
     ]
    },
    {
     "name": "stdout",
     "output_type": "stream",
     "text": [
      "Forbidden error: {\"action\":\"item_ack\",\"status_code\":\"403\",\"message\":\"We're sorry, but something went wrong. Please try again.\",\"payload\":{\"client_context\":\"6800081368263438388\",\"message\":\"We're sorry, but something went wrong. Please try again.\"},\"status\":\"fail\"}\n"
     ]
    }
   ],
   "source": [
    "from instagrapi import Client\n",
    "from instagrapi.exceptions import ClientForbiddenError\n",
    "\n",
    "client = Client()\n",
    "\n",
    "# Login to Instagram\n",
    "try:\n",
    "    client.login(username=\"test59014\", password=\"@Admin!23#\")\n",
    "except Exception as e:\n",
    "    print(\"Login failed:\", e)\n",
    "    exit()\n",
    "\n",
    "# Usernames of the recipients\n",
    "usernames = [\"arham.khan_18\", \"ashnakhn_14\"]\n",
    "\n",
    "# Fetch user IDs for the given usernames\n",
    "try:\n",
    "    user_ids = [client.user_id_from_username(username) for username in usernames]\n",
    "except Exception as e:\n",
    "    print(\"Failed to fetch user IDs:\", e)\n",
    "    exit()\n",
    "\n",
    "# Send the direct message\n",
    "try:\n",
    "    client.direct_send(\"hello\", user_ids)\n",
    "    print(\"Message sent successfully\")\n",
    "except ClientForbiddenError as e:\n",
    "    print(\"Forbidden error:\", e)\n",
    "except Exception as e:\n",
    "    print(\"An error occurred:\", e)\n"
   ]
  }
 ],
 "metadata": {
  "kernelspec": {
   "display_name": "Python 3 (ipykernel)",
   "language": "python",
   "name": "python3"
  },
  "language_info": {
   "codemirror_mode": {
    "name": "ipython",
    "version": 3
   },
   "file_extension": ".py",
   "mimetype": "text/x-python",
   "name": "python",
   "nbconvert_exporter": "python",
   "pygments_lexer": "ipython3",
   "version": "3.11.5"
  }
 },
 "nbformat": 4,
 "nbformat_minor": 5
}
