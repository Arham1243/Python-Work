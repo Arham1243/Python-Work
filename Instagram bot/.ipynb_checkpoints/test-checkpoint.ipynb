{
 "cells": [
  {
   "cell_type": "code",
   "execution_count": 1,
   "id": "f0bb782d",
   "metadata": {},
   "outputs": [],
   "source": [
    "import pandas as pd"
   ]
  },
  {
   "cell_type": "code",
   "execution_count": 2,
   "id": "4c9b75c6",
   "metadata": {},
   "outputs": [],
   "source": [
    "df = pd.read_excel(\"instagram_accounts.xlsx\")"
   ]
  },
  {
   "cell_type": "code",
   "execution_count": 3,
   "id": "06811a89",
   "metadata": {},
   "outputs": [],
   "source": [
    "df = df[df['status_code'] != 200]"
   ]
  },
  {
   "cell_type": "code",
   "execution_count": 4,
   "id": "87e6d688",
   "metadata": {
    "scrolled": false
   },
   "outputs": [
    {
     "data": {
      "text/plain": [
       "website\n",
       "no                                                 124\n",
       "yes                                                  2\n",
       "gmail.com                                            1\n",
       "taplink.cc/anastasiapophoto                          1\n",
       "www.madelinepdx.com                                  1\n",
       "stan.store/by-lisaselenschek                         1\n",
       "linktr.ee/twig.lips                                  1\n",
       "gmail.com, linktr.ee/Bradley.foodie                  1\n",
       "www.giuliarestaurant.co.uk                           1\n",
       "linkbio.co/                                          1\n",
       "www.djcarpetcleaning.com                             1\n",
       "linktr.ee/                                           1\n",
       "www.sabrinacasasphotographystudios.com               1\n",
       "unscriptedforphotographers.com/b/R6xR0rlhzBOaqM      1\n",
       "Name: count, dtype: int64"
      ]
     },
     "execution_count": 4,
     "metadata": {},
     "output_type": "execute_result"
    }
   ],
   "source": [
    "df['website'].value_counts()"
   ]
  },
  {
   "cell_type": "code",
   "execution_count": 5,
   "id": "6d8ed136",
   "metadata": {},
   "outputs": [
    {
     "data": {
      "text/plain": [
       "(784, 5)"
      ]
     },
     "execution_count": 5,
     "metadata": {},
     "output_type": "execute_result"
    }
   ],
   "source": [
    "df.shape"
   ]
  },
  {
   "cell_type": "code",
   "execution_count": 8,
   "id": "3e51b2e7",
   "metadata": {},
   "outputs": [],
   "source": [
    "df = df[df[\"website\"] == \"no\"]"
   ]
  },
  {
   "cell_type": "code",
   "execution_count": 9,
   "id": "ad48795b",
   "metadata": {},
   "outputs": [
    {
     "data": {
      "text/plain": [
       "(124, 5)"
      ]
     },
     "execution_count": 9,
     "metadata": {},
     "output_type": "execute_result"
    }
   ],
   "source": [
    "df.shape"
   ]
  },
  {
   "cell_type": "code",
   "execution_count": 10,
   "id": "072c5038",
   "metadata": {},
   "outputs": [
    {
     "data": {
      "text/plain": [
       "status_code\n",
       "No URL detected                                                                                                                                                                                                                                                                                                                                                                                                                        61\n",
       "403                                                                                                                                                                                                                                                                                                                                                                                                                                    12\n",
       "Error processing HTML                                                                                                                                                                                                                                                                                                                                                                                                                   2\n",
       "404                                                                                                                                                                                                                                                                                                                                                                                                                                     2\n",
       "HTTPSConnectionPool(host='elysiasegal.com', port=443): Max retries exceeded with url: / (Caused by ConnectTimeoutError(<urllib3.connection.HTTPSConnection object at 0x00000279805381D0>, 'Connection to elysiasegal.com timed out. (connect timeout=None)'))                                                                                                                                                                           1\n",
       "('Connection aborted.', RemoteDisconnected('Remote end closed connection without response'))                                                                                                                                                                                                                                                                                                                                            1\n",
       "HTTPSConnectionPool(host='www.radiohairsalon.com', port=443): Max retries exceeded with url: / (Caused by NewConnectionError('<urllib3.connection.HTTPSConnection object at 0x0000027980A11F50>: Failed to establish a new connection: [Errno 11002] getaddrinfo failed'))                                                                                                                                                              1\n",
       "HTTPSConnectionPool(host='www.eventbrite.com', port=443): Max retries exceeded with url: /e/razor-cutting-class-tickets-443819765867?aff=esfb&utm-campaign=social&utm-content=attendeeshare&utm-medium=discovery&utm-source=fb&utm-term=listing&fbclid= (Caused by NewConnectionError('<urllib3.connection.HTTPSConnection object at 0x000002798121F510>: Failed to establish a new connection: [Errno 11002] getaddrinfo failed'))     1\n",
       "HTTPSConnectionPool(host='howhatwear.com', port=443): Max retries exceeded with url: /easy-nail-art-ideas (Caused by NewConnectionError('<urllib3.connection.HTTPSConnection object at 0x0000027980E7F850>: Failed to establish a new connection: [Errno 11001] getaddrinfo failed'))                                                                                                                                                   1\n",
       "HTTPSConnectionPool(host='idget.treatwell.co.uk', port=443): Max retries exceeded with url: /place/399029/menu (Caused by NewConnectionError('<urllib3.connection.HTTPSConnection object at 0x0000027980B28210>: Failed to establish a new connection: [Errno 11001] getaddrinfo failed'))                                                                                                                                              1\n",
       "HTTPSConnectionPool(host='booksy.com', port=443): Max retries exceeded with url: /en-za/7853_the-cottage-hair-beauty_hair-salons_58609_durbanville (Caused by NewConnectionError('<urllib3.connection.HTTPSConnection object at 0x0000027980E92DD0>: Failed to establish a new connection: [Errno 11002] getaddrinfo failed'))                                                                                                          1\n",
       "HTTPSConnectionPool(host='app.metricool.com', port=443): Max retries exceeded with url: /bio/thebeautybeatevent (Caused by NewConnectionError('<urllib3.connection.HTTPSConnection object at 0x0000027980F9FBD0>: Failed to establish a new connection: [Errno 11002] getaddrinfo failed'))                                                                                                                                             1\n",
       "HTTPSConnectionPool(host='shesangzacademy.com', port=443): Max retries exceeded with url: / (Caused by NewConnectionError('<urllib3.connection.HTTPSConnection object at 0x00000279812B7410>: Failed to establish a new connection: [Errno 11001] getaddrinfo failed'))                                                                                                                                                                 1\n",
       "HTTPSConnectionPool(host='manncleaningservice.com', port=443): Max retries exceeded with url: / (Caused by ConnectTimeoutError(<urllib3.connection.HTTPSConnection object at 0x00000279809435D0>, 'Connection to manncleaningservice.com timed out. (connect timeout=None)'))                                                                                                                                                           1\n",
       "HTTPSConnectionPool(host='oodwork.ltd', port=443): Max retries exceeded with url: / (Caused by NewConnectionError('<urllib3.connection.HTTPSConnection object at 0x00000279808FDB10>: Failed to establish a new connection: [Errno 11001] getaddrinfo failed'))                                                                                                                                                                         1\n",
       "HTTPSConnectionPool(host='cprroofingsolar.com', port=443): Max retries exceeded with url: / (Caused by NewConnectionError('<urllib3.connection.HTTPSConnection object at 0x00000279813EE790>: Failed to establish a new connection: [Errno 11001] getaddrinfo failed'))                                                                                                                                                                 1\n",
       "HTTPSConnectionPool(host='professionallawncaresc.com', port=443): Max retries exceeded with url: / (Caused by ConnectTimeoutError(<urllib3.connection.HTTPSConnection object at 0x0000027980E678D0>, 'Connection to professionallawncaresc.com timed out. (connect timeout=None)'))                                                                                                                                                     1\n",
       "('Connection aborted.', ConnectionAbortedError(10053, 'An established connection was aborted by the software in your host machine', None, 10053, None))                                                                                                                                                                                                                                                                                 1\n",
       "HTTPSConnectionPool(host='ilsonroofing.com', port=443): Max retries exceeded with url: /contact-us (Caused by NewConnectionError('<urllib3.connection.HTTPSConnection object at 0x0000027980E868D0>: Failed to establish a new connection: [Errno 11001] getaddrinfo failed'))                                                                                                                                                          1\n",
       "500                                                                                                                                                                                                                                                                                                                                                                                                                                     1\n",
       "HTTPSConnectionPool(host='calendly.com', port=443): Read timed out. (read timeout=None)                                                                                                                                                                                                                                                                                                                                                 1\n",
       "HTTPSConnectionPool(host='sprout.link', port=443): Max retries exceeded with url: / (Caused by NewConnectionError('<urllib3.connection.HTTPSConnection object at 0x000001DE9D232510>: Failed to establish a new connection: [Errno 11002] getaddrinfo failed'))                                                                                                                                                                         1\n",
       "HTTPSConnectionPool(host='vemberphoto.com', port=443): Max retries exceeded with url: /instagram-link-in-bio (Caused by NewConnectionError('<urllib3.connection.HTTPSConnection object at 0x000001DE9D84E410>: Failed to establish a new connection: [Errno 11001] getaddrinfo failed'))                                                                                                                                                1\n",
       "HTTPSConnectionPool(host='doublem.designs.photography', port=443): Max retries exceeded with url: / (Caused by NewConnectionError('<urllib3.connection.HTTPSConnection object at 0x000001DE9D027A50>: Failed to establish a new connection: [Errno 11001] getaddrinfo failed'))                                                                                                                                                         1\n",
       "HTTPSConnectionPool(host='jarol.juarez', port=443): Max retries exceeded with url: / (Caused by NewConnectionError('<urllib3.connection.HTTPSConnection object at 0x000001DE9D82BB10>: Failed to establish a new connection: [Errno 11001] getaddrinfo failed'))                                                                                                                                                                        1\n",
       "HTTPSConnectionPool(host='cdl.booksy.com', port=443): Max retries exceeded with url: /5S1MUK8Q4Hb (Caused by NewConnectionError('<urllib3.connection.HTTPSConnection object at 0x000001DE9D164390>: Failed to establish a new connection: [Errno 11002] getaddrinfo failed'))                                                                                                                                                           1\n",
       "HTTPSConnectionPool(host='koira.club', port=443): Max retries exceeded with url: / (Caused by NewConnectionError('<urllib3.connection.HTTPSConnection object at 0x0000027980B98890>: Failed to establish a new connection: [WinError 10061] No connection could be made because the target machine actively refused it'))                                                                                                               1\n",
       "HTTPSConnectionPool(host='cocoastouch.co.uk', port=443): Max retries exceeded with url: / (Caused by NewConnectionError('<urllib3.connection.HTTPSConnection object at 0x0000021B74342F10>: Failed to establish a new connection: [Errno 11002] getaddrinfo failed'))                                                                                                                                                                   1\n",
       "HTTPSConnectionPool(host='www.emilygroomsdogs.com', port=443): Max retries exceeded with url: / (Caused by NewConnectionError('<urllib3.connection.HTTPSConnection object at 0x0000021B73E745D0>: Failed to establish a new connection: [Errno 11002] getaddrinfo failed'))                                                                                                                                                             1\n",
       "HTTPSConnectionPool(host='piarapizza915.com', port=443): Max retries exceeded with url: / (Caused by SSLError(SSLEOFError(8, '[SSL: UNEXPECTED_EOF_WHILE_READING] EOF occurred in violation of protocol (_ssl.c:1006)')))                                                                                                                                                                                                               1\n",
       "HTTPSConnectionPool(host='lebanonusa.com', port=443): Max retries exceeded with url: / (Caused by NewConnectionError('<urllib3.connection.HTTPSConnection object at 0x0000020D0A51CAD0>: Failed to establish a new connection: [Errno 11002] getaddrinfo failed'))                                                                                                                                                                      1\n",
       "('Connection aborted.', ConnectionResetError(10054, 'An existing connection was forcibly closed by the remote host', None, 10054, None))                                                                                                                                                                                                                                                                                                1\n",
       "400                                                                                                                                                                                                                                                                                                                                                                                                                                     1\n",
       "HTTPSConnectionPool(host='bincleanusa.com', port=443): Max retries exceeded with url: / (Caused by ConnectTimeoutError(<urllib3.connection.HTTPSConnection object at 0x0000020D0A6D3D50>, 'Connection to bincleanusa.com timed out. (connect timeout=None)'))                                                                                                                                                                           1\n",
       "HTTPSConnectionPool(host='plduae.com', port=443): Max retries exceeded with url: / (Caused by NewConnectionError('<urllib3.connection.HTTPSConnection object at 0x0000021B73C04590>: Failed to establish a new connection: [Errno 11001] getaddrinfo failed'))                                                                                                                                                                          1\n",
       "HTTPSConnectionPool(host='gofundme.com', port=443): Max retries exceeded with url: /f/Help-Refugee-Family-Complete-Their-Path-to-Asylum (Caused by NewConnectionError('<urllib3.connection.HTTPSConnection object at 0x0000021B73D82F10>: Failed to establish a new connection: [Errno 11002] getaddrinfo failed'))                                                                                                                     1\n",
       "HTTPSConnectionPool(host='kikisrestaurant.com', port=443): Max retries exceeded with url: / (Caused by NewConnectionError('<urllib3.connection.HTTPSConnection object at 0x0000021B73CA0AD0>: Failed to establish a new connection: [Errno 11002] getaddrinfo failed'))                                                                                                                                                                 1\n",
       "HTTPSConnectionPool(host='asrestorationllc.com', port=443): Max retries exceeded with url: / (Caused by NewConnectionError('<urllib3.connection.HTTPSConnection object at 0x0000021B73E4CF10>: Failed to establish a new connection: [Errno 11001] getaddrinfo failed'))                                                                                                                                                                1\n",
       "HTTPSConnectionPool(host='blownawayusa.com', port=443): Max retries exceeded with url: / (Caused by NewConnectionError('<urllib3.connection.HTTPSConnection object at 0x0000021B73F0AF10>: Failed to establish a new connection: [Errno 11002] getaddrinfo failed'))                                                                                                                                                                    1\n",
       "HTTPSConnectionPool(host='gladyscleaningservice.com', port=443): Max retries exceeded with url: / (Caused by NewConnectionError('<urllib3.connection.HTTPSConnection object at 0x0000021B73E6AF10>: Failed to establish a new connection: [Errno 11002] getaddrinfo failed'))                                                                                                                                                           1\n",
       "HTTPSConnectionPool(host='flaviomillos.usa', port=443): Max retries exceeded with url: / (Caused by NewConnectionError('<urllib3.connection.HTTPSConnection object at 0x0000020D0ABAED90>: Failed to establish a new connection: [Errno 11001] getaddrinfo failed'))                                                                                                                                                                    1\n",
       "HTTPSConnectionPool(host='www.sigroofing.co.uk', port=443): Max retries exceeded with url: / (Caused by NewConnectionError('<urllib3.connection.HTTPSConnection object at 0x0000021B7430B7D0>: Failed to establish a new connection: [Errno 11002] getaddrinfo failed'))                                                                                                                                                                1\n",
       "HTTPSConnectionPool(host='kg-construction.co.uk', port=443): Max retries exceeded with url: / (Caused by NewConnectionError('<urllib3.connection.HTTPSConnection object at 0x0000021B744EB550>: Failed to establish a new connection: [Errno 11002] getaddrinfo failed'))                                                                                                                                                               1\n",
       "HTTPSConnectionPool(host='chng.it', port=443): Max retries exceeded with url: /2jDBFk9ybc (Caused by NewConnectionError('<urllib3.connection.HTTPSConnection object at 0x0000021B73C02F10>: Failed to establish a new connection: [Errno 11002] getaddrinfo failed'))                                                                                                                                                                   1\n",
       "HTTPSConnectionPool(host='paulhusbandphotography.com', port=443): Max retries exceeded with url: / (Caused by NewConnectionError('<urllib3.connection.HTTPSConnection object at 0x0000021B74461FD0>: Failed to establish a new connection: [Errno 11001] getaddrinfo failed'))                                                                                                                                                          1\n",
       "HTTPSConnectionPool(host='somethingerika.co.uk', port=443): Max retries exceeded with url: / (Caused by ConnectTimeoutError(<urllib3.connection.HTTPSConnection object at 0x0000021B7420F4D0>, 'Connection to somethingerika.co.uk timed out. (connect timeout=None)'))                                                                                                                                                                 1\n",
       "HTTPSConnectionPool(host='arrenstudios.co.uk', port=443): Max retries exceeded with url: / (Caused by NewConnectionError('<urllib3.connection.HTTPSConnection object at 0x0000021B73E8AF90>: Failed to establish a new connection: [Errno 11001] getaddrinfo failed'))                                                                                                                                                                  1\n",
       "HTTPSConnectionPool(host='a.me', port=443): Max retries exceeded with url: /16317900767 (Caused by ConnectTimeoutError(<urllib3.connection.HTTPSConnection object at 0x0000021B72C52F10>, 'Connection to a.me timed out. (connect timeout=None)'))                                                                                                                                                                                      1\n",
       "HTTPSConnectionPool(host='loca.tattoos', port=443): Max retries exceeded with url: / (Caused by NewConnectionError('<urllib3.connection.HTTPSConnection object at 0x0000021B73CE66D0>: Failed to establish a new connection: [Errno 11001] getaddrinfo failed'))                                                                                                                                                                        1\n",
       "HTTPSConnectionPool(host='salonologygoldclub.com', port=443): Max retries exceeded with url: /party (Caused by ConnectTimeoutError(<urllib3.connection.HTTPSConnection object at 0x0000021B73DF2F10>, 'Connection to salonologygoldclub.com timed out. (connect timeout=None)'))                                                                                                                                                        1\n",
       "HTTPSConnectionPool(host='e.washington', port=443): Max retries exceeded with url: / (Caused by NewConnectionError('<urllib3.connection.HTTPSConnection object at 0x000001DE9C697090>: Failed to establish a new connection: [Errno 11001] getaddrinfo failed'))                                                                                                                                                                        1\n",
       "Name: count, dtype: int64"
      ]
     },
     "execution_count": 10,
     "metadata": {},
     "output_type": "execute_result"
    }
   ],
   "source": [
    "df['status_code'].value_counts()"
   ]
  },
  {
   "cell_type": "code",
   "execution_count": 11,
   "id": "9b4c9141",
   "metadata": {},
   "outputs": [],
   "source": [
    "df['status_code'] = df['status_code'].astype(str)"
   ]
  },
  {
   "cell_type": "code",
   "execution_count": 16,
   "id": "69dc88d6",
   "metadata": {},
   "outputs": [],
   "source": [
    "df.loc[df['status_code'].str.contains('HTTPSConnectionPool'), 'status_code'] = '408'\n",
    "df.loc[df['status_code'].str.contains('Connection aborted'), 'status_code'] = '408'\n",
    "df.loc[df['status_code'].str.contains('No URL detected'), 'status_code'] = '404'"
   ]
  },
  {
   "cell_type": "code",
   "execution_count": 24,
   "id": "875a8b33",
   "metadata": {},
   "outputs": [],
   "source": [
    "df = df[df['status_code'] == \"404\"]"
   ]
  },
  {
   "cell_type": "code",
   "execution_count": 26,
   "id": "d71c031e",
   "metadata": {},
   "outputs": [],
   "source": [
    "df.to_excel(\"send_dm.xlsx\",index=False)"
   ]
  },
  {
   "cell_type": "code",
   "execution_count": null,
   "id": "220d0c52",
   "metadata": {},
   "outputs": [],
   "source": []
  }
 ],
 "metadata": {
  "kernelspec": {
   "display_name": "Python 3 (ipykernel)",
   "language": "python",
   "name": "python3"
  },
  "language_info": {
   "codemirror_mode": {
    "name": "ipython",
    "version": 3
   },
   "file_extension": ".py",
   "mimetype": "text/x-python",
   "name": "python",
   "nbconvert_exporter": "python",
   "pygments_lexer": "ipython3",
   "version": "3.11.5"
  }
 },
 "nbformat": 4,
 "nbformat_minor": 5
}
