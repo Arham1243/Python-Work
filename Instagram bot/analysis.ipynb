{
 "cells": [
  {
   "cell_type": "code",
   "execution_count": 1,
   "id": "f0bb782d",
   "metadata": {},
   "outputs": [],
   "source": [
    "import pandas as pd\n",
    "import os"
   ]
  },
  {
   "cell_type": "code",
   "execution_count": 2,
   "id": "97724ab0",
   "metadata": {},
   "outputs": [],
   "source": [
    "foldername = \"old sheets\"\n",
    "files = os.listdir(foldername)"
   ]
  },
  {
   "cell_type": "code",
   "execution_count": 3,
   "id": "1608d458",
   "metadata": {},
   "outputs": [],
   "source": [
    "dfs = []"
   ]
  },
  {
   "cell_type": "code",
   "execution_count": 4,
   "id": "6ebc309c",
   "metadata": {},
   "outputs": [],
   "source": [
    "for file in files:\n",
    "    df = pd.read_excel(f\"{foldername}/{file}\")\n",
    "    dfs.append(df)"
   ]
  },
  {
   "cell_type": "code",
   "execution_count": 7,
   "id": "896d6958",
   "metadata": {},
   "outputs": [],
   "source": [
    "df = pd.concat(dfs, ignore_index=True)"
   ]
  },
  {
   "cell_type": "code",
   "execution_count": 15,
   "id": "9ce95d87",
   "metadata": {
    "scrolled": true
   },
   "outputs": [
    {
     "data": {
      "text/plain": [
       "<bound method NDFrame.describe of                     handle                                      business_url  \\\n",
       "0           rovaremodeling         https://www.instagram.com/rovaremodeling/   \n",
       "1          jandbcustomtile        https://www.instagram.com/jandbcustomtile/   \n",
       "2       leausahomesflorida     https://www.instagram.com/leausahomesflorida/   \n",
       "3    stockyardconstruction  https://www.instagram.com/stockyardconstruction/   \n",
       "4         isme_doggrooming       https://www.instagram.com/isme_doggrooming/   \n",
       "..                     ...                                               ...   \n",
       "215              sajmik007              https://www.instagram.com/sajmik007/   \n",
       "216          kinggeorgeclt          https://www.instagram.com/kinggeorgeclt/   \n",
       "217         ashley_greer85         https://www.instagram.com/ashley_greer85/   \n",
       "218           dustyallison           https://www.instagram.com/dustyallison/   \n",
       "219              magikalez              https://www.instagram.com/magikalez/   \n",
       "\n",
       "     followers website  status_code msg_sent  links target  \n",
       "0          740      no          404      yes    NaN    NaN  \n",
       "1         1281      no          404      yes    NaN    NaN  \n",
       "2         1046      no          404      yes    NaN    NaN  \n",
       "3          435      no          404      yes    NaN    NaN  \n",
       "4         1502      no          404      yes    NaN    NaN  \n",
       "..         ...     ...          ...      ...    ...    ...  \n",
       "215       1917      no          404      yes    NaN    NaN  \n",
       "216        142      no          404      yes    NaN    NaN  \n",
       "217       1047      no          404      yes    NaN    NaN  \n",
       "218       3081      no          404      yes    NaN    NaN  \n",
       "219       1499      no          404      yes    NaN    NaN  \n",
       "\n",
       "[220 rows x 8 columns]>"
      ]
     },
     "execution_count": 15,
     "metadata": {},
     "output_type": "execute_result"
    }
   ],
   "source": [
    "df.describe"
   ]
  },
  {
   "cell_type": "code",
   "execution_count": null,
   "id": "8a62fdf3",
   "metadata": {},
   "outputs": [],
   "source": []
  }
 ],
 "metadata": {
  "kernelspec": {
   "display_name": "Python 3 (ipykernel)",
   "language": "python",
   "name": "python3"
  },
  "language_info": {
   "codemirror_mode": {
    "name": "ipython",
    "version": 3
   },
   "file_extension": ".py",
   "mimetype": "text/x-python",
   "name": "python",
   "nbconvert_exporter": "python",
   "pygments_lexer": "ipython3",
   "version": "3.11.5"
  }
 },
 "nbformat": 4,
 "nbformat_minor": 5
}
